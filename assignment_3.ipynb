{
 "cells": [
  {
   "cell_type": "markdown",
   "metadata": {},
   "source": [
    "## Assignment 3"
   ]
  },
  {
   "cell_type": "markdown",
   "metadata": {},
   "source": [
    "## Question 1"
   ]
  },
  {
   "cell_type": "markdown",
   "metadata": {},
   "source": [
    "### Part A (10 points)"
   ]
  },
  {
   "cell_type": "markdown",
   "metadata": {},
   "source": [
    "\n",
    "A file, `board.csv` contains an $M$ by $N$ matrix consisting of a comma separated booleans that represents a game board. A `t` (True) value represents a wall. An `f` value (False) represents a tile you can walk on. One line in the file corresponds to a row on the game board.\n",
    "\n",
    "Given this matrix, a start coordinate, and an end coordinate, return the minimum number of steps required to reach the end coordinate from the start. If there is no possible path, then return `None`. Also return an path to get from the start to the end. You can move up, left, down, and right. You cannot move through walls nor diagonally. You cannot wrap around the edges of the board.  There may be more than one path. It is only necessary to return one of them.\n",
    "\n",
    "For example, given the following `board.csv` file:\n",
    "\n",
    "```\n",
    "f,f,f,f\n",
    "t,t,f,t\n",
    "f,f,f,f\n",
    "f,f,f,f\n",
    "```\n",
    "\n",
    "A board coorindate $(X,Y)$ should be interpreted as ...\n",
    "\n",
    "<img src=\"assign3.jpg\" width=\"50%\" />\n",
    "\n",
    "If `start` was `(0,3)` (the bottom left) and `end` was `(0, 0)` (the top left), the minimum number of steps required to reach the end is `7`, since we would need to go through `(2, 1)` because there is a wall everywhere else on the second row. So one path could be `up,right,right,up,up,left,left`. "
   ]
  },
  {
   "cell_type": "markdown",
   "metadata": {},
   "source": [
    "Write a function `min_steps` that takes the name of the board file, and a starting and end coordinate and returns the length of the shortest path and a path. The path should be returned as a list of `left`, `right`, `up`, and `down` directions.\n",
    "\n",
    "**Hint: Think of this is a graph problem**"
   ]
  },
  {
   "cell_type": "code",
   "execution_count": 10,
   "metadata": {},
   "outputs": [],
   "source": [
    "from typing import List, Tuple\n",
    "Location = Tuple[int,int]   # a board location\n",
    "\n",
    "def min_steps(board_file: str, \n",
    "              start: Location, \n",
    "              end: Location) -> Tuple[int, List[str]]:\n",
    "    pass"
   ]
  },
  {
   "cell_type": "markdown",
   "metadata": {},
   "source": [
    "### Part B (10 points)"
   ]
  },
  {
   "cell_type": "markdown",
   "metadata": {},
   "source": [
    "Some tiles of the board may be unreachable from other regions. For example, consider the $6 \\times 7$ board below.\n",
    "\n",
    "```\n",
    "f,f,f,f,f,f,f\n",
    "f,t,t,t,f,f,f\n",
    "f,t,f,t,f,f,f\n",
    "f,t,t,t,t,t,t\n",
    "f,f,f,f,t,f,t\n",
    "f,f,f,f,t,t,t\n",
    "```\n",
    "\n",
    "The tiles at `(2,2)` and `(5,5)`are both unreachable (because they are both surrounded by walls).  Assuming that the unreachable regions are numbered \n",
    "`0, 1, 2...` Write a function `number_regions` that takes the filename of the board file and numbers the accessible regions replacing the `f` values with a digit indicating the region's number.  For example, for the above graph `number_regions` might print\n",
    "\n",
    "```\n",
    "0,0,0,0,0,0,0\n",
    "0,t,t,t,0,0,0\n",
    "0,t,1,t,0,0,0\n",
    "0,t,t,t,t,t,t\n",
    "0,0,0,0,t,2,t\n",
    "0,0,0,0,t,t,t\n",
    "```\n",
    "\n",
    "Your function might number them differently but there should be only three regions.\n",
    "\n",
    "**Hint: This is another graph problem**"
   ]
  },
  {
   "cell_type": "code",
   "execution_count": 11,
   "metadata": {},
   "outputs": [],
   "source": [
    "def number_regions(board: str) -> None:\n",
    "    pass"
   ]
  },
  {
   "cell_type": "markdown",
   "metadata": {},
   "source": [
    "## Question 2 (5 points)"
   ]
  },
  {
   "cell_type": "markdown",
   "metadata": {},
   "source": [
    "Solve the heapify runtime analysis summation *exactly*.\n",
    "\n",
    "$$\n",
    "f(n) = \\sum_{i=0}^{h-1}{2^i(h-i)}\n",
    "$$\n",
    "\n",
    "and state a Big-$\\Theta$ bound for your solution. No need to prove it using the definitions of Big-Oh and Big-$\\Omega$.  Make sure this is neat and provide and exaplantion of what you are doing so I can follow it. Points deducted for non-neatness."
   ]
  },
  {
   "cell_type": "code",
   "execution_count": null,
   "metadata": {},
   "outputs": [],
   "source": []
  }
 ],
 "metadata": {
  "kernelspec": {
   "display_name": "Python 3",
   "language": "python",
   "name": "python3"
  },
  "language_info": {
   "codemirror_mode": {
    "name": "ipython",
    "version": 3
   },
   "file_extension": ".py",
   "mimetype": "text/x-python",
   "name": "python",
   "nbconvert_exporter": "python",
   "pygments_lexer": "ipython3",
   "version": "3.8.5"
  }
 },
 "nbformat": 4,
 "nbformat_minor": 4
}
