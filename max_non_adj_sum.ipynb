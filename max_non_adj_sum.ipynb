{
 "cells": [
  {
   "cell_type": "markdown",
   "metadata": {},
   "source": [
    "## Maximum non-adjacent sum"
   ]
  },
  {
   "cell_type": "markdown",
   "metadata": {},
   "source": [
    "### Recursive Solution"
   ]
  },
  {
   "cell_type": "code",
   "execution_count": null,
   "metadata": {},
   "outputs": [],
   "source": [
    "from typing import List\n",
    "def max_non_adj_sum(lst: List[int]) -> int:\n",
    "    \n",
    "    def f(i: int) -> int:\n",
    "        if i >= len(lst):\n",
    "            return 0\n",
    "        \n",
    "        return max(lst[i] + f(i+2), f(i+1))\n",
    "    \n",
    "    return f(0)"
   ]
  },
  {
   "cell_type": "code",
   "execution_count": null,
   "metadata": {},
   "outputs": [],
   "source": [
    "print(max_non_adj_sum([2,5,2,1,5]))\n",
    "print(max_non_adj_sum([11,13,12,35,2,11,25,8,34,18]))\n"
   ]
  },
  {
   "cell_type": "markdown",
   "metadata": {},
   "source": [
    "### Dynamic Programming Solution"
   ]
  },
  {
   "cell_type": "code",
   "execution_count": null,
   "metadata": {},
   "outputs": [],
   "source": [
    "def max_non_adj_sum_dp(lst: List[int]) -> int:\n",
    "    \n",
    "    # initialize the last two elements in the answer\n",
    "    lst[len(lst) - 2] = max(lst[len(lst) - 1], lst[len(lst) - 2])\n",
    "    \n",
    "    for i in range(len(lst) - 3, -1, -1):\n",
    "        lst[i] = max(lst[i] + lst[i+2], lst[i+1])\n",
    "        \n",
    "    return lst[0]"
   ]
  },
  {
   "cell_type": "code",
   "execution_count": null,
   "metadata": {},
   "outputs": [],
   "source": [
    "print(max_non_adj_sum_dp([2,5,2,1,5]))\n",
    "print(max_non_adj_sum_dp([11,13,12,35,2,11,25,8,34,18]))\n"
   ]
  },
  {
   "cell_type": "code",
   "execution_count": null,
   "metadata": {},
   "outputs": [],
   "source": []
  }
 ],
 "metadata": {
  "kernelspec": {
   "display_name": "Python 3",
   "language": "python",
   "name": "python3"
  },
  "language_info": {
   "codemirror_mode": {
    "name": "ipython",
    "version": 3
   },
   "file_extension": ".py",
   "mimetype": "text/x-python",
   "name": "python",
   "nbconvert_exporter": "python",
   "pygments_lexer": "ipython3",
   "version": "3.8.5"
  }
 },
 "nbformat": 4,
 "nbformat_minor": 4
}
