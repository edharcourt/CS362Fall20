{
 "cells": [
  {
   "cell_type": "markdown",
   "metadata": {},
   "source": [
    "# Assignment 5\n",
    "\n",
    "Due Tuesday November 24 by 5PM. Make sure to name this file `your-username_assignment_5.ipynb`.\n",
    "\n",
    "Always show all work. Do not ever just state an answer without justification or explanation.\n",
    "\n",
    "Neatness and professional presentation counts."
   ]
  },
  {
   "cell_type": "markdown",
   "metadata": {},
   "source": [
    "## Problem 1 (8 points)"
   ]
  },
  {
   "cell_type": "markdown",
   "metadata": {},
   "source": [
    "Consider the following statement of the traveling salesperson problem (TSP).\n",
    "\n",
    "Given a weighted graph $G = (V,E)$ and a starting vertex $v$ find the shortest cycle starting with $v$ that visits each node exactly once, except for $v$ which is visited first and last (a.k.a a _tour_).\n",
    "\n",
    "1. As stated is TSP in the set **_NP_**?  Explain your answer using an example.\n",
    "\n",
    "2. Assuming that a Hamiltonian tour is NP-Complete, is TSP NP-Complete as stated?\n",
    "\n",
    "3. Restate the problem in such a way that it is NP-Complete.\n",
    "\n",
    "4. Sketch a solution to TSP (you do not need to code it, just _pseudocode_) that is $O(|V|!)$ and explain why it is $O(|V|!)$. "
   ]
  },
  {
   "cell_type": "markdown",
   "metadata": {},
   "source": [
    "## Problem 2 - Satisfiability (14 points)"
   ]
  },
  {
   "cell_type": "markdown",
   "metadata": {},
   "source": [
    "For each of the following truth formulas determine whether it is satisfiable, and if it is, find a satisfying truth assignment. Recall the truth table for implication $\\rightarrow$ is always true except for $T \\rightarrow F = F$.\n",
    "\n",
    "1. $\\overline{e}$"
   ]
  },
  {
   "cell_type": "markdown",
   "metadata": {},
   "source": [
    "2. $(\\overline{e} \\vee \\overline{f} \\vee \\overline{g}) \\wedge e \\wedge f$"
   ]
  },
  {
   "cell_type": "markdown",
   "metadata": {},
   "source": [
    "3. $(e \\vee f) \\rightarrow (e \\rightarrow \\overline{f})$ \n"
   ]
  },
  {
   "cell_type": "markdown",
   "metadata": {},
   "source": [
    "4. $g \\wedge (e \\vee f) \\wedge \\overline{(e \\wedge f)} \\wedge (g \\rightarrow e) \\wedge (g \\rightarrow \\overline{f})$\n"
   ]
  },
  {
   "cell_type": "markdown",
   "metadata": {},
   "source": [
    "5. Write the formula in part 3 in 3CNF, but only use a truth table to derive the formula, you do not need to use the construction where we created a parse tree, etc."
   ]
  },
  {
   "cell_type": "markdown",
   "metadata": {},
   "source": [
    "6. Write the formula in part 4 in 3CNF. Use the construction we used in our roof that 3CNF is NP-Complete by first drawing the parse tree, then traversing the parse tree to generate an equivalent logic formula, etc."
   ]
  },
  {
   "cell_type": "markdown",
   "metadata": {},
   "source": [
    "7. Show why any logic formula in $n$ variables can be checked for satisfiability in $O(2^n)$. "
   ]
  },
  {
   "cell_type": "markdown",
   "metadata": {},
   "source": [
    "## Problem 3 (10 points)\n",
    "\n",
    "1. Write a function `verify_subset_sum` that takes a set $S$, a value $v$, and a subset of $S$, $T$ and verifies that $T$ is indeed a solution. "
   ]
  },
  {
   "cell_type": "code",
   "execution_count": 5,
   "metadata": {},
   "outputs": [],
   "source": [
    "from typing import Set\n",
    "def verify_subset_sum(S: Set[int], v: int, T: Set[int]) -> bool:\n",
    "    pass"
   ]
  },
  {
   "cell_type": "markdown",
   "metadata": {},
   "source": [
    "2. Explain why your function shows that subset-sum is in **_NP_** by giving a Big-Oh for your function. Be careful to explain the size of the input(s). I am looking for precision here in terms of everything you have learned this semester."
   ]
  },
  {
   "cell_type": "markdown",
   "metadata": {},
   "source": [
    "## Problem 4 (8 points)\n",
    "\n",
    "In our proof that **_3COL_** is NP-Complete we showed that **_3COL_** $\\le_p$ **_SAT_** and that **_3CNF_** $\\le_p$ **_3COL_**.\n",
    "\n",
    "1. What does proving that **_3COL_** $\\le_p$ **_SAT_** tell us?  Explain, don't just state an answer.\n"
   ]
  },
  {
   "cell_type": "markdown",
   "metadata": {},
   "source": [
    "2. What does proving that **_3CNF_** $\\le_p$ **_3COL_** tell us? Explain, don't just state an answer. "
   ]
  },
  {
   "cell_type": "markdown",
   "metadata": {},
   "source": [
    "3. Consider the following geographic map with countries A, B, C, and D.\n",
    "\n",
    "<img src =\"images/map.jpg\" width=\"20%\" />\n",
    "\n",
    "Draw the graph that corresponds to the map where vertices represent countries, and there is an edge between a vertex if they share a border."
   ]
  },
  {
   "cell_type": "markdown",
   "metadata": {},
   "source": [
    "4. In our proof that **_3COL_** is NP-Complete and the reduction from **_3COL_** $\\le_p$ **_SAT_** we derived a logic formula that is satifiable if-and-only-if the map was 3 colarable. Write out this logic formula for your graph in 3. "
   ]
  },
  {
   "cell_type": "code",
   "execution_count": null,
   "metadata": {},
   "outputs": [],
   "source": []
  }
 ],
 "metadata": {
  "kernelspec": {
   "display_name": "Python 3",
   "language": "python",
   "name": "python3"
  },
  "language_info": {
   "codemirror_mode": {
    "name": "ipython",
    "version": 3
   },
   "file_extension": ".py",
   "mimetype": "text/x-python",
   "name": "python",
   "nbconvert_exporter": "python",
   "pygments_lexer": "ipython3",
   "version": "3.7.6"
  }
 },
 "nbformat": 4,
 "nbformat_minor": 4
}
