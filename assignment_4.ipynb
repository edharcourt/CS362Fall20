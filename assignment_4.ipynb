{
 "cells": [
  {
   "cell_type": "markdown",
   "metadata": {},
   "source": [
    "# Assignment 4\n",
    "Due Monday November 16 by 5PM. Make sure to name this file `your-username_assignment_4.ipynb`."
   ]
  },
  {
   "cell_type": "code",
   "execution_count": 5,
   "metadata": {},
   "outputs": [],
   "source": [
    "## Problem 1 - Huffman Coding (20 points)"
   ]
  },
  {
   "cell_type": "markdown",
   "metadata": {},
   "source": [
    "Write a function `huffcode` takes a frequency dictionary from the `load` function (see `huffman.ipynb`) and returns a Huffman code. The code is just another dictionary that assigns a unique binary code to each character in the dictionary."
   ]
  },
  {
   "cell_type": "code",
   "execution_count": 11,
   "metadata": {},
   "outputs": [],
   "source": [
    "from typing import Tuple, Dict\n",
    "\n",
    "def huffcode(freq: Dict[str,int]) -> Dict[str,int]:\n",
    "    pass"
   ]
  },
  {
   "cell_type": "markdown",
   "metadata": {},
   "source": [
    "For example, in Day 26 we constructed a Huffman code for the word *effervescence* which turned out to be \n",
    "\n",
    "```\n",
    "r = 0000\n",
    "v = 0001\n",
    "s = 0010\n",
    "n = 0011\n",
    "f = 010\n",
    "c = 011\n",
    "e = 1\n",
    "```\n",
    "\n",
    "It would be better if we did not use leading zeros in our codes, because the integer `0000` is impossible to distinguish with the inetger `0`. If we invert the bits we still get a good Huffman code\n",
    "\n",
    "```\n",
    "r = 1111\n",
    "v = 1110\n",
    "s = 1101\n",
    "n = 1100\n",
    "f = 101\n",
    "c = 100\n",
    "e = 0\n",
    "```\n",
    "\n",
    "For the example above if `d` was the frequency dictionary for `effervescence`\n",
    "\n",
    "```Python\n",
    "{'e': 5, 'f': 2, 'r': 1, 'v': 1, 's': 1, 'c': 2, 'n': 1}\n",
    "```\n",
    "\n",
    "then\n",
    "\n",
    "```Python\n",
    "huffcode(d)\n",
    "{'r': 15, 'v': 14, 's': 13, 'n': 12, 'f': 5, 'c': 4, 'e': 0}\n",
    "```\n",
    "\n",
    "The function `huffcode` must do three things\n",
    "\n",
    "1. build the heap for the dictionary \n",
    "2. build the Huffman tree\n",
    "3. construct the codes by traversing the tree."
   ]
  },
  {
   "cell_type": "markdown",
   "metadata": {},
   "source": [
    "Write a function `compress` that takes a string $s$ and a Huffman code and compresses $s$ into an integer representation. Hint: We did this for a fixed length code in the file `compress_dna.ipynb`. Compressing the string `effervescence` *should* return the bits `0 101 101 0 1111 1110 0 1101 100 0 1100 100 0` or `01011010111111100 1101100011001000`.  Does the leading zero cause trouble? Yes it does."
   ]
  },
  {
   "cell_type": "code",
   "execution_count": 7,
   "metadata": {},
   "outputs": [],
   "source": [
    "def compress(s: str, code: Dict[str,int]) -> int:\n",
    "    pass"
   ]
  },
  {
   "cell_type": "markdown",
   "metadata": {},
   "source": [
    "Write a function `decompress` that takes an inteeger, and a huffman code dictionary, and returns the string corresponding to the integer."
   ]
  },
  {
   "cell_type": "code",
   "execution_count": 8,
   "metadata": {},
   "outputs": [],
   "source": [
    "def decompress(v: int, code: Dict[str,int]) -> str:\n",
    "    pass"
   ]
  },
  {
   "cell_type": "markdown",
   "metadata": {},
   "source": [
    "Test your `compress` and `decompress` functions on strings that can be made from the same characters (anagrams). For example `ever`, `fever`, `reeve`, `essence`, `sever`, `severe`, `reverse`."
   ]
  },
  {
   "cell_type": "code",
   "execution_count": 12,
   "metadata": {},
   "outputs": [],
   "source": [
    "## Optimal Coin Changing"
   ]
  },
  {
   "cell_type": "markdown",
   "metadata": {},
   "source": [
    "Write a function `print_change` that takes an amount `v` and `denom`, a list of bill denominations, and prints the least number of bills to make change for `v`. For example if `v` was 12 and `denom` was `[10, 6, 1]` then `print_change` would print `6,6`. "
   ]
  },
  {
   "cell_type": "markdown",
   "metadata": {},
   "source": [
    "<img src=\"currency_table.jpg\" width=\"85%\" />"
   ]
  },
  {
   "cell_type": "markdown",
   "metadata": {},
   "source": [
    "Here's a hint.  Set up a table of used bills.\n",
    "\n",
    "<img src = \"used_currency_table.jpg\" width=\"75%\" />"
   ]
  },
  {
   "cell_type": "code",
   "execution_count": 10,
   "metadata": {},
   "outputs": [],
   "source": [
    "from typing import List\n",
    "def print_change(v: int, denom:List[int]) -> None:\n",
    "    pass"
   ]
  },
  {
   "cell_type": "markdown",
   "metadata": {},
   "source": [
    "## Problem 3 - The Pebble Game\n",
    "Assume we have a single pebble on a linear board game that has $n$ cells. The pebble starts all the way to the left and can move one or two spaces to the right at a time.  \n",
    "<img src=\"pebble-game.png\" />\n"
   ]
  },
  {
   "cell_type": "markdown",
   "metadata": {},
   "source": [
    "Write a naive recursive function `pebble` that, given an $n$, prints the number of ways that the pebble can move all the way to the right square. For example, if $n=3$, then the answer is also $3$ because there are three ways to move all the way to the right; 111, 12, and 21 (where a 1 means we go one space, and 2, two spaces at a time).\n",
    "Also have your function print the list of ways. For example `pebble(5)` would print \n",
    "\n",
    "```\n",
    "8, \n",
    "['1112', '11111', '1121', '122', '1211', '212', '2111', '221']\n",
    "```\n",
    " \n",
    "What is the Big-oh runtime of your pebble function?\n",
    " \n",
    "The pebble function contains overlapping subproblems.  Develop a dynamic programming solution called `pebble_dp` that runs in `O(n)` time. For this version of the function don't worry about printing all of the ways the pebble can travel. Just have it return the number of ways."
   ]
  }
 ],
 "metadata": {
  "kernelspec": {
   "display_name": "Python 3",
   "language": "python",
   "name": "python3"
  },
  "language_info": {
   "codemirror_mode": {
    "name": "ipython",
    "version": 3
   },
   "file_extension": ".py",
   "mimetype": "text/x-python",
   "name": "python",
   "nbconvert_exporter": "python",
   "pygments_lexer": "ipython3",
   "version": "3.8.5"
  }
 },
 "nbformat": 4,
 "nbformat_minor": 4
}
