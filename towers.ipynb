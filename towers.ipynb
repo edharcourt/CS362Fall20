{
 "cells": [
  {
   "cell_type": "markdown",
   "metadata": {},
   "source": [
    "# Towers of Hanoi"
   ]
  },
  {
   "cell_type": "code",
   "execution_count": 5,
   "metadata": {},
   "outputs": [
    {
     "name": "stdout",
     "output_type": "stream",
     "text": [
      "Move from 1 to 3\n",
      "Move from 1 to 2\n",
      "Move from 3 to 2\n",
      "Move from 1 to 3\n",
      "Move from 2 to 1\n",
      "Move from 2 to 3\n",
      "Move from 1 to 3\n"
     ]
    }
   ],
   "source": [
    "def hanoi(n: int, a: int, b:int, c: int):\n",
    "   \"\"\"\n",
    "   https://www.mathsisfun.com/games/towerofhanoi.html\n",
    "   :param n: number of disks\n",
    "   :param a: from\n",
    "   :param b: temporary\n",
    "   :param c: destination\n",
    "   :return: None\n",
    "   \"\"\"\n",
    "\n",
    "   if n == 1:\n",
    "       print(\"Move from\", a, 'to', c)\n",
    "   else:\n",
    "\n",
    "       # move n-1 disks from a to b using c as a temp\n",
    "       hanoi(n-1, a, c, b)\n",
    "       print(\"Move from\", a, 'to', c)\n",
    "\n",
    "       # move n-1 disks from b to c using a as a temp\n",
    "       hanoi(n-1, b, a, c)\n",
    "\n",
    "if __name__ == \"__main__\":\n",
    "   hanoi(3, 1, 2, 3)"
   ]
  },
  {
   "cell_type": "code",
   "execution_count": null,
   "metadata": {},
   "outputs": [],
   "source": []
  }
 ],
 "metadata": {
  "kernelspec": {
   "display_name": "Python 3",
   "language": "python",
   "name": "python3"
  },
  "language_info": {
   "codemirror_mode": {
    "name": "ipython",
    "version": 3
   },
   "file_extension": ".py",
   "mimetype": "text/x-python",
   "name": "python",
   "nbconvert_exporter": "python",
   "pygments_lexer": "ipython3",
   "version": "3.8.3"
  }
 },
 "nbformat": 4,
 "nbformat_minor": 4
}
