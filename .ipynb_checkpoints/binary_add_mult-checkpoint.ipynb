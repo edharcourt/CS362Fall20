{
 "cells": [
  {
   "cell_type": "markdown",
   "metadata": {},
   "source": [
    "## Bit operations"
   ]
  },
  {
   "cell_type": "code",
   "execution_count": null,
   "metadata": {},
   "outputs": [],
   "source": [
    "# count the number of least significant zeros\n",
    "def count_lsz(x: int) -> int:\n",
    "    i = 0\n",
    "    while x & 1 == 0:   # look at the least siginificant bit\n",
    "        i += 1\n",
    "        x >>= 1\n",
    "    return i\n"
   ]
  },
  {
   "cell_type": "code",
   "execution_count": null,
   "metadata": {},
   "outputs": [],
   "source": [
    "\n",
    "def bitreverse(x:int) -> int:\n",
    "    tmp = 0\n",
    "\n",
    "    while x > 0:\n",
    "        tmp = (tmp << 1) | (x&1)\n",
    "        x = x >> 1\n",
    "    return tmp\n",
    "\n"
   ]
  },
  {
   "cell_type": "code",
   "execution_count": null,
   "metadata": {},
   "outputs": [],
   "source": [
    "# addition using bitwise operators only.\n",
    "def add(x: int, y: int) -> int:\n",
    "    c = 0  # initial carry in\n",
    "\n",
    "    # Starting r at 1 is a kludge so that when we shift in a\n",
    "    # one or zero we really shift something in.\n",
    "    r = 1  # result\n",
    "\n",
    "    while x != 0 or y != 0:\n",
    "        a = x & 1      # get most significant bit of x\n",
    "        b = y & 1      # get most significant bit of y\n",
    "        s = a ^ b ^ c  # compute the sum bit (^ is exclusive or)\n",
    "        c = a & b | a & c | b & c  # compute the new carry\n",
    "        r = (r << 1) | s           # shift in the new sum bit\n",
    "        x = x >> 1     # shift out the least significant bits\n",
    "        y = y >> 1     # of x and y\n",
    "\n",
    "    r = ((r << 1) | c) # shift in the final carry bit\n",
    "\n",
    "    # the result bits were built up in reverse order.\n",
    "    # get rid of that initial 1 bit in the result.\n",
    "    return bitreverse(r) >> 1\n"
   ]
  },
  {
   "cell_type": "markdown",
   "metadata": {},
   "source": [
    "# Multiplication"
   ]
  },
  {
   "cell_type": "code",
   "execution_count": 1,
   "metadata": {},
   "outputs": [],
   "source": [
    "# multiplication is O(n**2)\n",
    "def mult(x: int, y: int) -> int:\n",
    "    prod = 0\n",
    "    multiplicand = x\n",
    "    multiplier = y\n",
    "\n",
    "    # loop iterates O(n)\n",
    "    while multiplier > 0:\n",
    "        if multiplier & 1:   # check if odd\n",
    "            prod = prod + multiplicand   # addition is O(n)\n",
    "        multiplicand  <<=  1 \n",
    "        multiplier    >>=  1  \n",
    "    return prod\n"
   ]
  },
  {
   "cell_type": "code",
   "execution_count": 3,
   "metadata": {},
   "outputs": [
    {
     "data": {
      "text/plain": [
       "99"
      ]
     },
     "execution_count": 3,
     "metadata": {},
     "output_type": "execute_result"
    }
   ],
   "source": [
    "mult(11,9)"
   ]
  },
  {
   "cell_type": "code",
   "execution_count": 4,
   "metadata": {},
   "outputs": [
    {
     "data": {
      "text/plain": [
       "64600627456478233166523687385279"
      ]
     },
     "execution_count": 4,
     "metadata": {},
     "output_type": "execute_result"
    }
   ],
   "source": [
    "mult(19380739747746767, 3333238477854737)"
   ]
  },
  {
   "cell_type": "code",
   "execution_count": 5,
   "metadata": {},
   "outputs": [
    {
     "data": {
      "text/plain": [
       "64600627456478233166523687385279"
      ]
     },
     "execution_count": 5,
     "metadata": {},
     "output_type": "execute_result"
    }
   ],
   "source": [
    "19380739747746767 * 3333238477854737"
   ]
  },
  {
   "cell_type": "markdown",
   "metadata": {},
   "source": [
    "### Recursive multiply algorithm from page 15 of Dasgupta text"
   ]
  },
  {
   "cell_type": "markdown",
   "metadata": {},
   "source": [
    "$$\n",
    "x \\cdot y = \\left\\{\n",
    "        \\begin{array}{ll}\n",
    "            2(x \\cdot \\left \\lfloor{y/2}\\right \\rfloor) & \\mbox{if $y$ is even} \\\\\n",
    "            x + 2(x \\cdot \\left \\lfloor{y/2}\\right \\rfloor) & \\mbox{if $y$ is odd}\n",
    "        \\end{array}\n",
    "    \\right.\n",
    "$$"
   ]
  },
  {
   "cell_type": "code",
   "execution_count": 1,
   "metadata": {},
   "outputs": [],
   "source": [
    "# Multiply and divide by 2 replaced with shift left and right.\n",
    "def multiply(x: int, y: int) -> int:\n",
    "    if y == 0:\n",
    "        return 0\n",
    "\n",
    "    z = multiply(x, y >> 1)\n",
    "    \n",
    "    if y & 1 == 0:            # if y is even\n",
    "        return z << 1\n",
    "    else:\n",
    "        return x + (z << 1)"
   ]
  },
  {
   "cell_type": "code",
   "execution_count": null,
   "metadata": {},
   "outputs": [],
   "source": []
  }
 ],
 "metadata": {
  "kernelspec": {
   "display_name": "Python 3",
   "language": "python",
   "name": "python3"
  },
  "language_info": {
   "codemirror_mode": {
    "name": "ipython",
    "version": 3
   },
   "file_extension": ".py",
   "mimetype": "text/x-python",
   "name": "python",
   "nbconvert_exporter": "python",
   "pygments_lexer": "ipython3",
   "version": "3.8.4"
  }
 },
 "nbformat": 4,
 "nbformat_minor": 4
}
