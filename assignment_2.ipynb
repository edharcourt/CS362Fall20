{
 "cells": [
  {
   "cell_type": "markdown",
   "metadata": {},
   "source": [
    "# Homework 2\n",
    "\n",
    "Due Wednesday September 16th by 5PM EST."
   ]
  },
  {
   "cell_type": "markdown",
   "metadata": {},
   "source": [
    "## Problem 1 (a coding practice exercise)\n",
    "\n",
    "Consider the integers from $1$ to $n$, and a list of length $n-1$ of these integers where each integer appears in the list at most once. By the  [*pigeon hole principle*](https://en.wikipedia.org/wiki/Pigeonhole_principle) one of the integers must be missing. For example, let $n=10$ and say we have the list \n",
    "\n",
    "```Python\n",
    "lst = [1, 6, 4, 9, 2, 7, 8, 10, 5]\n",
    "```\n",
    "the we see that `3` is missing. \n",
    "\n",
    "### Part a \n",
    "Write a function `missing` that takes a list of unique integers of length $n-1$ and returns the missing integer. Each ineteger in the list is in the range $1..n$.  Write `missing` any way you know how. It doesn't have to be the *best* solution nor the most elegant. I would be disappointed if it was (see Part C). That is, it need not be the most time and space efficient. **Do not look up solutions on the internet. That defeats the purpose. And I will know.**\n",
    "\n",
    "Exaplin if your function require any extra storage and if so, is it constant or is it a function of $n$?"
   ]
  },
  {
   "cell_type": "code",
   "execution_count": 3,
   "metadata": {},
   "outputs": [],
   "source": [
    "from typing import List\n",
    "def missing(lst: List[int]) -> int:\n",
    "    pass \n",
    "\n",
    "lst = [1, 6, 4, 9, 2, 7, 8, 10, 5]\n",
    "print(missing(lst) == 3)  # Should print True"
   ]
  },
  {
   "cell_type": "markdown",
   "metadata": {},
   "source": [
    "### Part b\n",
    "Do a complete Big $\\Theta$ analysis of your `missing` function. Make sure to clearly identify the parts of the code that are constant time and those that depend on the *size of the input*."
   ]
  },
  {
   "cell_type": "markdown",
   "metadata": {},
   "source": [
    "### Part C\n",
    "Come up with a $\\Theta(n)$ solution that uses constant space. It is a little tricky. Here's a hint: recall that the sum of $1 + 2 + 3 + \\cdots + n-1 = n(n-1)/2$.   Prove that your function is $\\Theta(n)$."
   ]
  },
  {
   "cell_type": "markdown",
   "metadata": {},
   "source": [
    "## Problem 2\n",
    "How many times is the statement `S` executed below.  Come up with an exact formula as a function of $n$ and prove a Big $\\Theta$ bound for the function.\n",
    "\n",
    "```Java\n",
    "    for (int i = 0; i < n; i++) \n",
    "          for (int j = i+1; j < n - 1; j++)\n",
    "              S;\n",
    "```\n"
   ]
  },
  {
   "cell_type": "markdown",
   "metadata": {},
   "source": [
    "## Problem 3\n",
    "Develop a function $f$ that determines how many times `Hello` printed.  Come up with an exact formula as a function of $n$ and prove a Big $\\Theta$ bound for the function.\n",
    "\n",
    "```Python\n",
    "i = 1\n",
    "while i < n:\n",
    "    i = i * 2\n",
    "    print('Hello')\n",
    "```"
   ]
  },
  {
   "cell_type": "markdown",
   "metadata": {},
   "source": [
    "## Problem 4\n",
    "\n",
    "Recall that the modular inverse of $n \\mbox{ mod } m$ is an integer $x$ such that $n\\cdot x \\mbox{ mod } m = 1$.  \n",
    "\n",
    "### Part a\n",
    "Write a brute force version of a function `modinv(n,m)` that returns the modular inverse of $n \\mbox{ mod } m$, if it exists, by trying all of the possible inverses $0, 1, 2\\cdots$. If the modular inverse does not exist then `modinv` should return `None`. "
   ]
  },
  {
   "cell_type": "code",
   "execution_count": 10,
   "metadata": {},
   "outputs": [
    {
     "name": "stdout",
     "output_type": "stream",
     "text": [
      "True\n",
      "False\n"
     ]
    }
   ],
   "source": [
    "from typing import Optional\n",
    "\n",
    "def modinv(x : int, y : int) -> Optional[int]:\n",
    "    pass\n",
    "\n",
    "print(modinv(2,6) == None)    # Should print True\n",
    "print(modinv(33, 91) == 80)   # Should print True"
   ]
  },
  {
   "cell_type": "markdown",
   "metadata": {},
   "source": [
    "### Part b\n",
    "Do a Big complete $\\Theta$ analysis of your `modinv` function being clear to explain what the size of the input is.\n"
   ]
  },
  {
   "cell_type": "markdown",
   "metadata": {},
   "source": [
    "## Problem 4 (multiple questions)\n",
    "\n",
    "**_Do textbook problems 1.7, 1.11, 1.13, 1.20, 1.25_**\n",
    "\n",
    "For 1.7 we wrote the recursive multiply alogorithm from page 15 in class. It may be easier to use that as a reference for your analysis.\n",
    "\n",
    "For 1.20 don't use any code we wrote. Try try and figure them out by trial and error. Make sure to explain why your answer are correct. \n",
    "\n",
    "For 1.25, the problem says \"using any method you choose\". Use our fuction `fastmodpow` we wrote in class by following the recursion like we have done in class starting with `fastmodpow(2, 125, 127)`.\n",
    "\n",
    "**_Do textbook problems 1.27 and 1.28_**\n",
    "\n",
    "You can't do 1.27 and 1.28 until after our class on Friday September 11. For these questions, you are *showing all of the work by hand*. Not running code we wrote.  You could check your answer by running code.\n",
    "\n"
   ]
  },
  {
   "cell_type": "code",
   "execution_count": null,
   "metadata": {},
   "outputs": [],
   "source": []
  }
 ],
 "metadata": {
  "kernelspec": {
   "display_name": "Python 3",
   "language": "python",
   "name": "python3"
  },
  "language_info": {
   "codemirror_mode": {
    "name": "ipython",
    "version": 3
   },
   "file_extension": ".py",
   "mimetype": "text/x-python",
   "name": "python",
   "nbconvert_exporter": "python",
   "pygments_lexer": "ipython3",
   "version": "3.8.3"
  }
 },
 "nbformat": 4,
 "nbformat_minor": 4
}
