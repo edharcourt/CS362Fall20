{
 "cells": [
  {
   "cell_type": "code",
   "execution_count": 1,
   "metadata": {},
   "outputs": [],
   "source": [
    "from heapq import heapify, heappush, heappop\n",
    "from typing import Dict, List, Tuple"
   ]
  },
  {
   "cell_type": "code",
   "execution_count": 2,
   "metadata": {},
   "outputs": [],
   "source": [
    "class Tree:\n",
    "    def __init__(self, ch = '\\0', \n",
    "                left: 'Tree' = None,\n",
    "                right: 'Tree' = None):\n",
    "        self.ch = ch\n",
    "        self.left = left\n",
    "        self.right = right\n",
    "    \n",
    "    def __lt__(self, t: 'Tree'):\n",
    "        return True\n",
    "    "
   ]
  },
  {
   "cell_type": "code",
   "execution_count": 3,
   "metadata": {},
   "outputs": [],
   "source": [
    "# type of a Heap entry for Huffman\n",
    "HeapEntry =  Tuple[int, Tree]\n",
    "HuffHeap = List[HeapEntry]"
   ]
  },
  {
   "cell_type": "code",
   "execution_count": 10,
   "metadata": {},
   "outputs": [],
   "source": [
    "# return Dict string should be a single character\n",
    "def load(fn:str) -> Dict[str,int]:\n",
    "    freq = dict()\n",
    "    for ch in \"\".join(open(fn).readlines()):\n",
    "        if ch not in freq:\n",
    "            freq[ch] = 0\n",
    "        freq[ch] += 1\n",
    "    return freq"
   ]
  },
  {
   "cell_type": "code",
   "execution_count": 14,
   "metadata": {},
   "outputs": [],
   "source": [
    "def buildheap(d: Dict[str,int]) -> HuffHeap:\n",
    "    h = [(d[k], Tree(k)) for k in d]\n",
    "    heapify(h)\n",
    "    return h"
   ]
  },
  {
   "cell_type": "code",
   "execution_count": null,
   "metadata": {},
   "outputs": [],
   "source": [
    "d = load('lilwomen.txt')\n",
    "h = buildheap(d)\n",
    "print(h)"
   ]
  },
  {
   "cell_type": "markdown",
   "metadata": {},
   "source": [
    "## Complete as HW 4"
   ]
  },
  {
   "cell_type": "code",
   "execution_count": null,
   "metadata": {},
   "outputs": [],
   "source": []
  }
 ],
 "metadata": {
  "kernelspec": {
   "display_name": "Python 3",
   "language": "python",
   "name": "python3"
  },
  "language_info": {
   "codemirror_mode": {
    "name": "ipython",
    "version": 3
   },
   "file_extension": ".py",
   "mimetype": "text/x-python",
   "name": "python",
   "nbconvert_exporter": "python",
   "pygments_lexer": "ipython3",
   "version": "3.7.6"
  }
 },
 "nbformat": 4,
 "nbformat_minor": 4
}
