{
 "cells": [
  {
   "cell_type": "code",
   "execution_count": 1,
   "metadata": {},
   "outputs": [],
   "source": [
    "from heapq import heapify, heappush, heappop\n",
    "from typing import Dict, List, Tuple"
   ]
  },
  {
   "cell_type": "code",
   "execution_count": 2,
   "metadata": {},
   "outputs": [],
   "source": [
    "class Tree:\n",
    "    def __init__(self, ch = '\\0', \n",
    "                left: 'Tree' = None,\n",
    "                right: 'Tree' = None):\n",
    "        self.ch = ch\n",
    "        self.left = left\n",
    "        self.right = right\n",
    "    \n",
    "    def __lt__(self, t: 'Tree'):\n",
    "        return True\n",
    "    "
   ]
  },
  {
   "cell_type": "code",
   "execution_count": 3,
   "metadata": {},
   "outputs": [],
   "source": [
    "# type of a Heap entry for Huffman\n",
    "HeapEntry =  Tuple[int, Tree]\n",
    "HuffHeap = List[HeapEntry]"
   ]
  },
  {
   "cell_type": "code",
   "execution_count": 7,
   "metadata": {},
   "outputs": [
    {
     "data": {
      "text/plain": [
       "'helloworld'"
      ]
     },
     "execution_count": 7,
     "metadata": {},
     "output_type": "execute_result"
    }
   ],
   "source": [
    "\"\".join(['hello','world'])"
   ]
  },
  {
   "cell_type": "code",
   "execution_count": 10,
   "metadata": {},
   "outputs": [],
   "source": [
    "# A string shouldbe a single character in the dictionary\n",
    "def load(fn:str) -> Dict[str,int]:\n",
    "    freq = dict()\n",
    "    for ch in \"\".join(open(fn).readlines()):\n",
    "        if ch not in freq:\n",
    "            freq[ch] = 0\n",
    "        freq[ch] += 1\n",
    "    return freq"
   ]
  },
  {
   "cell_type": "code",
   "execution_count": 14,
   "metadata": {},
   "outputs": [],
   "source": [
    "def buildheap(d: Dict[str,int]) -> HuffHeap:\n",
    "    h = [(d[k], Tree(k)) for k in d]\n",
    "    heapify(h)\n",
    "    return h"
   ]
  },
  {
   "cell_type": "code",
   "execution_count": 15,
   "metadata": {},
   "outputs": [
    {
     "name": "stdout",
     "output_type": "stream",
     "text": [
      "[(1, <__main__.Tree object at 0x00000162D3EB7348>), (1, <__main__.Tree object at 0x00000162D3D37048>), (1, <__main__.Tree object at 0x00000162D3D33448>), (1, <__main__.Tree object at 0x00000162D3D37248>), (1, <__main__.Tree object at 0x00000162D3D37388>), (3, <__main__.Tree object at 0x00000162D3D333C8>), (3, <__main__.Tree object at 0x00000162D3D33408>), (5, <__main__.Tree object at 0x00000162D3D37108>), (1, <__main__.Tree object at 0x00000162D3D37288>), (1610, <__main__.Tree object at 0x00000162D3D33AC8>), (670, <__main__.Tree object at 0x00000162D3D33C48>), (5, <__main__.Tree object at 0x00000162D3D33388>), (75, <__main__.Tree object at 0x00000162D3D33E08>), (112, <__main__.Tree object at 0x00000162D3D33F08>), (83, <__main__.Tree object at 0x00000162D3EB0088>), (13, <__main__.Tree object at 0x00000162D3EB0188>), (16, <__main__.Tree object at 0x00000162D3D37148>), (4, <__main__.Tree object at 0x00000162D3D37208>), (1, <__main__.Tree object at 0x00000162D3D37308>), (18830, <__main__.Tree object at 0x00000162D3D33208>), (8994, <__main__.Tree object at 0x00000162D3D33B08>), (741, <__main__.Tree object at 0x00000162D3D33B88>), (1741, <__main__.Tree object at 0x00000162D3D33648>), (423, <__main__.Tree object at 0x00000162D3D33C88>), (33, <__main__.Tree object at 0x00000162D3D33D48>), (355, <__main__.Tree object at 0x00000162D3D33708>), (493, <__main__.Tree object at 0x00000162D3D33E48>), (434, <__main__.Tree object at 0x00000162D3D33788>), (259, <__main__.Tree object at 0x00000162D3D337C8>), (275, <__main__.Tree object at 0x00000162D3D33FC8>), (293, <__main__.Tree object at 0x00000162D3D33088>), (21, <__main__.Tree object at 0x00000162D3EB0108>), (2343, <__main__.Tree object at 0x00000162D3D332C8>), (27, <__main__.Tree object at 0x00000162D3D37088>), (4813, <__main__.Tree object at 0x00000162D3D33108>), (6, <__main__.Tree object at 0x00000162D3D371C8>), (626, <__main__.Tree object at 0x00000162D3D33308>), (2, <__main__.Tree object at 0x00000162D3D372C8>), (1, <__main__.Tree object at 0x00000162D3D37348>), (36926, <__main__.Tree object at 0x00000162D3D33A88>), (204985, <__main__.Tree object at 0x00000162D3D331C8>), (46074, <__main__.Tree object at 0x00000162D3D335C8>), (16795, <__main__.Tree object at 0x00000162D3D33B48>), (60972, <__main__.Tree object at 0x00000162D3D33608>), (7454, <__main__.Tree object at 0x00000162D3D33BC8>), (6934, <__main__.Tree object at 0x00000162D3D33C08>), (15376, <__main__.Tree object at 0x00000162D3D33348>), (33814, <__main__.Tree object at 0x00000162D3D33688>), (1131, <__main__.Tree object at 0x00000162D3D33CC8>), (926, <__main__.Tree object at 0x00000162D3D33D08>), (65111, <__main__.Tree object at 0x00000162D3D336C8>), (555, <__main__.Tree object at 0x00000162D3D33D88>), (866, <__main__.Tree object at 0x00000162D3D33DC8>), (953, <__main__.Tree object at 0x00000162D3D33748>), (771, <__main__.Tree object at 0x00000162D3D33248>), (1690, <__main__.Tree object at 0x00000162D3D33E88>), (862, <__main__.Tree object at 0x00000162D3D33EC8>), (1452, <__main__.Tree object at 0x00000162D3D33148>), (470, <__main__.Tree object at 0x00000162D3D33F48>), (746, <__main__.Tree object at 0x00000162D3D33F88>), (6271, <__main__.Tree object at 0x00000162D3D33808>), (387, <__main__.Tree object at 0x00000162D3D33288>), (47314, <__main__.Tree object at 0x00000162D3D33848>), (44766, <__main__.Tree object at 0x00000162D3D33888>), (436, <__main__.Tree object at 0x00000162D3D33188>), (17413, <__main__.Tree object at 0x00000162D3D338C8>), (11002, <__main__.Tree object at 0x00000162D3D33488>), (17702, <__main__.Tree object at 0x00000162D3D33908>), (27, <__main__.Tree object at 0x00000162D3D370C8>), (50671, <__main__.Tree object at 0x00000162D3D33948>), (17406, <__main__.Tree object at 0x00000162D3D334C8>), (762, <__main__.Tree object at 0x00000162D3D37188>), (4900, <__main__.Tree object at 0x00000162D3D33988>), (58993, <__main__.Tree object at 0x00000162D3D33508>), (95152, <__main__.Tree object at 0x00000162D3D339C8>), (12550, <__main__.Tree object at 0x00000162D3D33A08>), (22615, <__main__.Tree object at 0x00000162D3D33548>), (17056, <__main__.Tree object at 0x00000162D3D33A48>), (938, <__main__.Tree object at 0x00000162D3D330C8>), (45736, <__main__.Tree object at 0x00000162D3D33588>)]\n"
     ]
    }
   ],
   "source": [
    "d = load('lilwomen.txt')\n",
    "h = buildheap(d)\n",
    "print(h)"
   ]
  },
  {
   "cell_type": "code",
   "execution_count": null,
   "metadata": {},
   "outputs": [],
   "source": []
  }
 ],
 "metadata": {
  "kernelspec": {
   "display_name": "Python 3",
   "language": "python",
   "name": "python3"
  },
  "language_info": {
   "codemirror_mode": {
    "name": "ipython",
    "version": 3
   },
   "file_extension": ".py",
   "mimetype": "text/x-python",
   "name": "python",
   "nbconvert_exporter": "python",
   "pygments_lexer": "ipython3",
   "version": "3.7.6"
  }
 },
 "nbformat": 4,
 "nbformat_minor": 4
}
