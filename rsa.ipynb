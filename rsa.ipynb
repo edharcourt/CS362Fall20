{
 "cells": [
  {
   "cell_type": "markdown",
   "metadata": {},
   "source": [
    "# RSA"
   ]
  },
  {
   "cell_type": "code",
   "execution_count": null,
   "metadata": {},
   "outputs": [],
   "source": [
    "# Extended Euclid\n",
    "# return integers (x,y,d) such that d = gcd(a,b)\n",
    "# and d = ax + by\n",
    "def mod_inv(a : int, b : int) -> Optional[int]:\n",
    "    \"\"\"\n",
    "    Compute the modular inverse of a mod b if it exists\n",
    "    :param a:  number  computing invers of\n",
    "    :param b:  mod\n",
    "    :return: modular inverse of a % b. If not exist then None.\n",
    "    \"\"\"\n",
    "    def ext_gcd(a: int, b: int) -> Tuple[int,int,int]:\n",
    "      if b == 0:\n",
    "        return (a,1,0)   # the last row\n",
    "      else:\n",
    "        (d, x_, y_) = ext_gcd(b, a % b)\n",
    "        (d,x,y) = (d, y_, x_ - a//b*y_)\n",
    "        return (d,x,y)\n",
    "\n",
    "    if gcd(a,b) != 1:\n",
    "        return None\n",
    "    else:\n",
    "        (d,x,y) = ext_gcd(a,b)\n",
    "        return x % b\n"
   ]
  },
  {
   "cell_type": "code",
   "execution_count": 10,
   "metadata": {},
   "outputs": [],
   "source": [
    "def gcd(x: int, y: int) -> int:\n",
    "    if y == 0:\n",
    "        return x    # gcd(x, 0) = x\n",
    "    else:\n",
    "        return gcd(y, x % y)"
   ]
  },
  {
   "cell_type": "code",
   "execution_count": 4,
   "metadata": {},
   "outputs": [],
   "source": [
    "# Compute x^y mod N in O(n^3) time\n",
    "# where n is the length of the\n",
    "# digits in bits\n",
    "def modexp(x: int, y:int, m: int) -> int:\n",
    "    if y == 0:\n",
    "        return 1\n",
    "    elif y & 1 == 0:\n",
    "        tmp = modexp(x, y >> 1, m)\n",
    "        return (tmp % m) * (tmp % m) %m\n",
    "    else:\n",
    "        tmp = modexp(x, y >> 1, m)\n",
    "        return (x % m)*(tmp % m) * (tmp % m) % m\n"
   ]
  },
  {
   "cell_type": "code",
   "execution_count": 5,
   "metadata": {},
   "outputs": [
    {
     "name": "stdout",
     "output_type": "stream",
     "text": [
      "True\n"
     ]
    }
   ],
   "source": [
    "print(modexp(345,456,789) == 345**456 % 789)"
   ]
  },
  {
   "cell_type": "code",
   "execution_count": 6,
   "metadata": {},
   "outputs": [],
   "source": [
    "import random\n",
    "def probablyPrime(N:int) -> bool:\n",
    "    def primality(N : int) -> bool:\n",
    "        \"\"\"\n",
    "        This is the primality test from page 27 of Dasgupta. It represents the\n",
    "        converse of Fermat's Little Theorem.\n",
    "        :param N:\n",
    "        :return: False, N is definitely not prime.\n",
    "                 True, N is prime with probability <= 1/2.\n",
    "        \"\"\"\n",
    "        a = random.randrange(1,N)\n",
    "        return modexp(a,N-1,N) == 1\n",
    "\n",
    "    for i in range(200):\n",
    "        if primality(N):\n",
    "            continue\n",
    "        else:\n",
    "            return False\n",
    "    return True"
   ]
  },
  {
   "cell_type": "markdown",
   "metadata": {},
   "source": [
    "How many tries to find a 512 bit prime?"
   ]
  },
  {
   "cell_type": "code",
   "execution_count": 11,
   "metadata": {},
   "outputs": [
    {
     "name": "stdout",
     "output_type": "stream",
     "text": [
      "145110868712580829566546882037951459989691660171960622461638258052725343249321992140716488237523429253615443820449627355858623207456325914926886826389557802225299942797285854405558268255961783668769504060631114136328549577986754863536163468695207911538533763952822332264036962333355706810214469309628412829699\n",
      "Found prime in 1239 attempts\n"
     ]
    }
   ],
   "source": [
    "i = 0\n",
    "while True:\n",
    "    x = random.randrange(2**1024)\n",
    "    i += 1\n",
    "    if probablyPrime(x):\n",
    "        print(x)\n",
    "        print(\"Found prime in\", i, \"attempts\")\n",
    "        break"
   ]
  },
  {
   "cell_type": "code",
   "execution_count": null,
   "metadata": {},
   "outputs": [],
   "source": []
  },
  {
   "cell_type": "code",
   "execution_count": null,
   "metadata": {},
   "outputs": [],
   "source": []
  }
 ],
 "metadata": {
  "kernelspec": {
   "display_name": "Python 3",
   "language": "python",
   "name": "python3"
  },
  "language_info": {
   "codemirror_mode": {
    "name": "ipython",
    "version": 3
   },
   "file_extension": ".py",
   "mimetype": "text/x-python",
   "name": "python",
   "nbconvert_exporter": "python",
   "pygments_lexer": "ipython3",
   "version": "3.8.4"
  }
 },
 "nbformat": 4,
 "nbformat_minor": 4
}
