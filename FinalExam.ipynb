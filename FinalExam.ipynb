{
 "cells": [
  {
   "cell_type": "markdown",
   "metadata": {},
   "source": [
    "# <span style=\"background-color: #00FF00; font-weight:bold\"> CS362 Algorithms Final Exam </span>\n",
    "## Fall 2020\n",
    "### Due Friday December 11th by 5PM\n",
    "\n",
    "**Name**: <u>**_your-name-goes-here_**</u>\n",
    "\n",
    "+ rename this file **`your-slu-username_FinalExam.ipynb`**\n",
    "\n",
    "+ Use notebook cells judicously and put images and answers of different parts in their own cell.\n",
    "\n",
    "+ Make sure that the Notebook cells can be executed *in sequence* and that we don't have to jump around and execute cells in a non-linear order.\n",
    "\n",
    "+ _**Explain Everything**_. If you just state an answer and it is wrong I can't give any partial credit. Explanations help convince me that you understand your solution.\n",
    "\n",
    "+ I will be deducting points for missing images, broken links, or sloppiness. If you need to use Latex or Python to express an answer neatly you should do so.\n",
    "\n",
    "+ You may not communicate with anyone about this exam. You may not consult the internet except to look up [Python documentation](https://docs.python.org/3/whatsnew/3.8.html) or [matplotlib documentation](https://matplotlib.org/contents.html). You may consult the course textbook, course notes, and course videos. You may, of course, ask me clarifying questions. But I will not give any other assistance.\n",
    "\n",
    "+ During the week of December 7th I will have you make a 15 minute appointment for a one-on-one oral exam component (5 points). For those in far away time zones I will set aside some times in late evening (EST) and early morning. Local students should please not use those appointment times.\n",
    "\n",
    "+ Make sure to push this notebook to your *private github course repo* by the date and time due. Since this is ther end of the semester this exam cannot be turned in late for a late penalty. \n",
    "\n",
    "+ <span style=\"background-color: #FFFF00\">By pushing this notebook to your private github repo you attest that you have neither given nor received assistance on this take home exam and that all work is entirely your own.</span>\n",
    "\n",
    "+ If you turn in any images, make sure to crop large areas of empty space. Also, set the scale to 75-80 %, not 50%."
   ]
  },
  {
   "cell_type": "markdown",
   "metadata": {},
   "source": [
    "## Problem 1 (20 points)\n",
    "\n",
    "1. Neatly draw the search tree for the Hamiltonian *Path* backtracking algorithm starting from node **c**. If there is a choice of vertex to follow choose the one that comes alphabetically first. Stop when the first Hamiltonian Path is found.\n"
   ]
  },
  {
   "cell_type": "markdown",
   "metadata": {},
   "source": [
    "<img src=\"images/final_ham.png\" />"
   ]
  },
  {
   "cell_type": "markdown",
   "metadata": {},
   "source": [
    "2. In terms of $\\vert V\\vert$ and $\\vert E\\vert$, compare and contrast the backtracking algorithm above to a brute force solution that tries all possible paths. Assume the paths are tried in lexicographic (alphabetc) order.  For example the first path would be `abcde` and the last path would be `edbca`."
   ]
  },
  {
   "cell_type": "markdown",
   "metadata": {},
   "source": [
    "3. Is it possible for this graph to contain a Hamiltonian *Cycle*? Briefly explain why or why not."
   ]
  },
  {
   "cell_type": "markdown",
   "metadata": {},
   "source": [
    "4. Briefly describe a simple improvement on the backtracking algorithm that would increase performance (but not the Big-Oh)."
   ]
  },
  {
   "cell_type": "markdown",
   "metadata": {},
   "source": [
    "## Problem 2 (20 points)\n",
    "\n",
    "Consider the **3CNF** formula \n",
    "\n",
    "$$\n",
    "(a \\vee b \\vee c)(a \\vee \\overline{b} \\vee c)(\\overline{a} \\vee b \\vee \\overline{c})(\\overline{a} \\vee b \\vee c)(\\overline{a} \\vee \\overline{b} \\vee \\overline{c})\n",
    "$$\n",
    "\n",
    "In our proof from class that **3COL** is NP-Hard we produced a graph *widget* for the first clause in the above formula $(a \\vee b \\vee c)$ that is 3-colorable *if and only if* the formula is satisfiable. Argue that the widget produced by the clause $(\\overline{a} \\vee b \\vee \\overline{c})$ in the above formula is 3-colorable if and only if it is satisfiable. Be complete. Be clear. Use drawings.  "
   ]
  },
  {
   "cell_type": "markdown",
   "metadata": {},
   "source": [
    "## Problem 3 (40 points)\n",
    "\n",
    "In a *completely connected* graph every vertex has an edge to every other vertex. A *clique* (pronounced \"kleek\") in a graph $G$ is a subgraph $G'$ of $G$ that is completely connected. For example, the graph below  \n",
    "\n",
    "<img src=\"images/final_clique.png\" width=\"35%\" /> \n",
    "\n",
    "contains a clique of size four with the vertices $C$, $F$, $G$, and $J$ as highlighted in green below.\n",
    "\n",
    "<img src=\"images/final_clique_2.png\" width=\"35%\" /> \n",
    "\n",
    "The **clique decision problem** asks, given a graph $G$ does the graph contain a clique of size $K$.  The corresponding **clique function problem** asks what are the vertices in the clique of size $K$.\n",
    " \n",
    "\n"
   ]
  },
  {
   "cell_type": "markdown",
   "metadata": {},
   "source": [
    "1. The clique problem is NP-Complete. Show that the problem is in NP by writing a function **`is_clique`** that takes a list of vertices, and a graph, and returns true if the list of vertices form a clique, false otherwise.  Using the **`Graph`** class from earlier in the semester (**`Graph.ipynb`**) test your function on the graph and clique above."
   ]
  },
  {
   "cell_type": "code",
   "execution_count": 2,
   "metadata": {},
   "outputs": [],
   "source": [
    "from Graph import Graph \n",
    "\n",
    "from typing import List, TypeVar\n",
    "T = TypeVar('T')\n",
    "\n",
    "def is_clique(c: List[T], g: Graph) -> bool:\n",
    "    pass"
   ]
  },
  {
   "cell_type": "markdown",
   "metadata": {},
   "source": [
    "2. Analyze the runtime of your **`is_clique`** function in terms of $\\vert V\\vert$ and $\\vert E\\vert$."
   ]
  },
  {
   "cell_type": "markdown",
   "metadata": {},
   "source": [
    "3. Write a brute force function **`find_cliques`** that takes a a graph $G$ and searches for all of the cliques in the graph that are larger than 2. It should print the cliques as it finds them (rather than returning a list of cliques).  "
   ]
  },
  {
   "cell_type": "code",
   "execution_count": 13,
   "metadata": {},
   "outputs": [],
   "source": [
    "from Graph import Graph \n",
    "\n",
    "def find_cliques(g: Graph) -> None:\n",
    "    pass"
   ]
  },
  {
   "cell_type": "markdown",
   "metadata": {},
   "source": [
    "4. Analyze the runtime of your **`find_cliques`** function in terms of $\\vert V\\vert$ and $\\vert E\\vert$."
   ]
  },
  {
   "cell_type": "markdown",
   "metadata": {},
   "source": [
    "## Problem 4 (20 points)\n",
    "\n",
    "In class we wrote a recursive function **`powset`** to generate the powerset of a set $S$. It called an auxillary function **`insert-into_each`**. We then discussed the one-to-one correspondance between the powerset of a set with $n$ elements and $n$-bit numbers.\n",
    "\n",
    "1. Rewrite the function **`powset`** so that it is not recursive and generates the powerset by *counting* and using bit operations to build the subsets."
   ]
  },
  {
   "cell_type": "code",
   "execution_count": 3,
   "metadata": {},
   "outputs": [],
   "source": [
    "from typing import List, TypeVar\n",
    "T = TypeVar('T')\n",
    "\n",
    "def powset(s: List[T]) -> List[List[T]]:\n",
    "    pass"
   ]
  },
  {
   "cell_type": "markdown",
   "metadata": {},
   "source": [
    "2. Analyze the runtime of your **`powset`** function."
   ]
  },
  {
   "cell_type": "code",
   "execution_count": null,
   "metadata": {},
   "outputs": [],
   "source": []
  }
 ],
 "metadata": {
  "kernelspec": {
   "display_name": "Python 3",
   "language": "python",
   "name": "python3"
  },
  "language_info": {
   "codemirror_mode": {
    "name": "ipython",
    "version": 3
   },
   "file_extension": ".py",
   "mimetype": "text/x-python",
   "name": "python",
   "nbconvert_exporter": "python",
   "pygments_lexer": "ipython3",
   "version": "3.7.6"
  }
 },
 "nbformat": 4,
 "nbformat_minor": 4
}
