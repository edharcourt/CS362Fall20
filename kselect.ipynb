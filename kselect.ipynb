{
 "cells": [
  {
   "cell_type": "code",
   "execution_count": null,
   "metadata": {},
   "outputs": [],
   "source": [
    "# K Selection"
   ]
  },
  {
   "cell_type": "markdown",
   "metadata": {},
   "source": [
    "Partition an array around a pivot element (the leftmost element). Modify the original\n",
    "array and return the location of the pivot"
   ]
  },
  {
   "cell_type": "code",
   "execution_count": 8,
   "metadata": {},
   "outputs": [],
   "source": [
    "def partition(arr, left, right):\n",
    "    r = left                # r is the pivot index\n",
    "    pivot = arr[left]       # assume pivot is first item in region\n",
    "\n",
    "    for i in range(left+1,right+1):\n",
    "        if arr[i] <= pivot:\n",
    "            r += 1  \n",
    "            (arr[i], arr[r]) = (arr[r], arr[i])\n",
    "    \n",
    "    (arr[left], arr[r]) = (arr[r], arr[left])\n",
    "    return r"
   ]
  },
  {
   "cell_type": "code",
   "execution_count": 9,
   "metadata": {},
   "outputs": [
    {
     "name": "stdout",
     "output_type": "stream",
     "text": [
      "[4, 1, 10, 8, 7, 12, 9, 2, 15]\n",
      "[4, 1, 10, 8, 7, 12, 9, 2, 15] 1 1\n",
      "[4, 1, 2, 8, 7, 12, 9, 10, 15] 7 2\n",
      "[2, 1, 4, 8, 7, 12, 9, 10, 15]\n",
      "2\n",
      "[2, 1, 4, 8, 7, 12, 9, 10, 15]\n"
     ]
    }
   ],
   "source": [
    "lst = [4,1,10,8,7,12,9,2,15]\n",
    "print(partition(lst, 0, len(lst)-1))\n",
    "print(lst)"
   ]
  },
  {
   "cell_type": "code",
   "execution_count": 10,
   "metadata": {},
   "outputs": [],
   "source": [
    "# Find the kth smallest item in arr\n",
    "def select(arr, k):\n",
    "    def select_(left, right):\n",
    "        if left == right:    # base case\n",
    "            return arr[left]\n",
    "\n",
    "        part_idx = partition(arr, left, right)\n",
    "        if part_idx == k:\n",
    "            return arr[k]\n",
    "        elif k < part_idx:\n",
    "            return select_(left, part_idx - 1)\n",
    "        else:\n",
    "            return select_(part_idx + 1, right)\n",
    "    return select_(0, len(arr) - 1)\n"
   ]
  },
  {
   "cell_type": "code",
   "execution_count": null,
   "metadata": {},
   "outputs": [],
   "source": []
  }
 ],
 "metadata": {
  "kernelspec": {
   "display_name": "Python 3",
   "language": "python",
   "name": "python3"
  },
  "language_info": {
   "codemirror_mode": {
    "name": "ipython",
    "version": 3
   },
   "file_extension": ".py",
   "mimetype": "text/x-python",
   "name": "python",
   "nbconvert_exporter": "python",
   "pygments_lexer": "ipython3",
   "version": "3.7.6"
  }
 },
 "nbformat": 4,
 "nbformat_minor": 4
}
