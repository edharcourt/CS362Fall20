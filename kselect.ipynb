{
 "cells": [
  {
   "cell_type": "code",
   "execution_count": null,
   "metadata": {},
   "outputs": [],
   "source": [
    "# K Selection"
   ]
  },
  {
   "cell_type": "markdown",
   "metadata": {},
   "source": [
    "Partition an array around a pivot element (the leftmost element). Modify the original\n",
    "array and return the location of the pivot"
   ]
  },
  {
   "cell_type": "code",
   "execution_count": 11,
   "metadata": {},
   "outputs": [],
   "source": [
    "def partition(arr, left, right):\n",
    "    r = left                # r is the pivot index\n",
    "    pivot = arr[left]       # assume pivot is first item in region\n",
    "\n",
    "    for i in range(left+1,right+1):\n",
    "        if arr[i] <= pivot:\n",
    "            r += 1  \n",
    "            (arr[i], arr[r]) = (arr[r], arr[i])\n",
    "    \n",
    "    (arr[left], arr[r]) = (arr[r], arr[left])\n",
    "    return r"
   ]
  },
  {
   "cell_type": "code",
   "execution_count": 15,
   "metadata": {},
   "outputs": [
    {
     "name": "stdout",
     "output_type": "stream",
     "text": [
      "3\n",
      "[5, 19, 20, 21, 32, 71, 36, 79, 81, 29]\n"
     ]
    }
   ],
   "source": [
    "lst = [21,32,79,29,19,71,36,20,81,5]\n",
    "print(partition(lst, 0, len(lst)-1))\n",
    "print(lst)"
   ]
  },
  {
   "cell_type": "code",
   "execution_count": 16,
   "metadata": {},
   "outputs": [
    {
     "name": "stdout",
     "output_type": "stream",
     "text": [
      "5\n",
      "[5, 19, 20, 21, 29, 32, 36, 79, 81, 71]\n"
     ]
    }
   ],
   "source": [
    "print(partition(lst, 4, len(lst)-1))\n",
    "print(lst)"
   ]
  },
  {
   "cell_type": "code",
   "execution_count": null,
   "metadata": {},
   "outputs": [],
   "source": [
    "from typing import List, TypeVar\n",
    "T = TypeVar('T')\n",
    "def select(lst: List[T], k:int) -> T:\n",
    "    def select_(left: int, right: int):\n",
    "        if left == right:      #base case\n",
    "            return lst[left]\n",
    "        \n",
    "        r = partition(lst, left, right)\n",
    "        if r == k:\n",
    "            return lst[r]\n",
    "        elif k < r:\n",
    "            return select_(left, r - 1)\n",
    "        else:\n",
    "            return select_(r + 1, right)\n",
    "        \n",
    "    return select_(0, len(lst) - 1)"
   ]
  }
 ],
 "metadata": {
  "kernelspec": {
   "display_name": "Python 3",
   "language": "python",
   "name": "python3"
  },
  "language_info": {
   "codemirror_mode": {
    "name": "ipython",
    "version": 3
   },
   "file_extension": ".py",
   "mimetype": "text/x-python",
   "name": "python",
   "nbconvert_exporter": "python",
   "pygments_lexer": "ipython3",
   "version": "3.8.4"
  }
 },
 "nbformat": 4,
 "nbformat_minor": 4
}
