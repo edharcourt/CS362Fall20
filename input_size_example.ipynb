{
 "cells": [
  {
   "cell_type": "code",
   "execution_count": null,
   "metadata": {},
   "outputs": [],
   "source": [
    "from typing import List\n",
    "# Let n be the length of lstOfChars\n",
    "# f(n) = C1 + C2 + (n-1)C3  is O(n) Omega(n) is Theta(n)\n",
    "def f(lstOfChars) -> int:\n",
    "    s = 0  # C1\n",
    "    for i in range(len(lstOfChars) - 1):  # C2\n",
    "        s += ord(lstOfChars[i-1]) % len(lstOfChars)) + 3 # C3\n",
    "    \n",
    "    return s\n",
    "\n",
    "# Let n be the length of the list\n",
    "# Let m be the number of bits for an entry in lst\n",
    "# O(nm)\n",
    "def g(lst:List[int]) -> int:\n",
    "    s = 0 # C\n",
    "    for x in lst: # O(n)\n",
    "        s += x    # WATCHOUT!!!!!  2m is O(m)\n",
    "        \n",
    "    return s"
   ]
  },
  {
   "cell_type": "code",
   "execution_count": null,
   "metadata": {},
   "outputs": [],
   "source": []
  }
 ],
 "metadata": {
  "kernelspec": {
   "display_name": "Python 3",
   "language": "python",
   "name": "python3"
  },
  "language_info": {
   "codemirror_mode": {
    "name": "ipython",
    "version": 3
   },
   "file_extension": ".py",
   "mimetype": "text/x-python",
   "name": "python",
   "nbconvert_exporter": "python",
   "pygments_lexer": "ipython3",
   "version": "3.7.6"
  }
 },
 "nbformat": 4,
 "nbformat_minor": 4
}
