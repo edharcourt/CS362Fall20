{
 "cells": [
  {
   "cell_type": "code",
   "execution_count": 1,
   "metadata": {},
   "outputs": [],
   "source": [
    "import numpy as np\n",
    "import matplotlib.pyplot as plt"
   ]
  },
  {
   "cell_type": "code",
   "execution_count": 14,
   "metadata": {},
   "outputs": [],
   "source": [
    "import time\n",
    "def timeit(func):\n",
    "    \"\"\"\n",
    "    A decorator that times the function func with the arguments that\n",
    "    are passed to it\n",
    "    :param func: Function being timed\n",
    "    :return: func's result\n",
    "    \"\"\"\n",
    "    def clocked(*args, **kwargs):\n",
    "        t0 = time.perf_counter()\n",
    "        result = func(*args, **kwargs)\n",
    "        elapsed = time.perf_counter() - t0\n",
    "        name = func.__name__\n",
    "        #print('[%0.8fs] %s' % (elapsed, name))\n",
    "        return result, elapsed\n",
    "    return clocked\n"
   ]
  },
  {
   "cell_type": "code",
   "execution_count": 15,
   "metadata": {},
   "outputs": [],
   "source": [
    "@timeit\n",
    "def timsort(lst):\n",
    "    lst.sort()"
   ]
  },
  {
   "cell_type": "code",
   "execution_count": 20,
   "metadata": {},
   "outputs": [
    {
     "name": "stdout",
     "output_type": "stream",
     "text": [
      "10000\n",
      "20000\n",
      "30000\n",
      "40000\n",
      "50000\n",
      "60000\n",
      "70000\n",
      "80000\n",
      "90000\n",
      "100000\n",
      "110000\n",
      "120000\n",
      "130000\n",
      "140000\n",
      "150000\n",
      "160000\n",
      "170000\n",
      "180000\n",
      "190000\n",
      "200000\n",
      "210000\n",
      "220000\n",
      "230000\n",
      "240000\n",
      "250000\n",
      "260000\n",
      "270000\n",
      "280000\n",
      "290000\n",
      "300000\n",
      "310000\n",
      "320000\n",
      "330000\n",
      "340000\n",
      "350000\n",
      "360000\n",
      "370000\n",
      "380000\n",
      "390000\n",
      "400000\n",
      "410000\n",
      "420000\n",
      "430000\n",
      "440000\n",
      "450000\n",
      "460000\n",
      "470000\n",
      "480000\n",
      "490000\n",
      "49\n"
     ]
    }
   ],
   "source": [
    "from random import randrange as rr\n",
    "ts = [] # list of times \n",
    "for n in range(10000, 500000, 10000):\n",
    "    lst = [rr(1000000) for i in range(n)]\n",
    "    (x, t) = timsort(lst)\n",
    "    ts.append(t)\n",
    "    print(n)\n",
    "print(ts)"
   ]
  },
  {
   "cell_type": "code",
   "execution_count": 25,
   "metadata": {},
   "outputs": [
    {
     "name": "stdout",
     "output_type": "stream",
     "text": [
      "[0.0013182999998662126, 0.002333700000008321, 0.0037363000001278124, 0.005674600000020291, 0.006823799999892799, 0.008502199999838922, 0.010084099999858154, 0.011765200000127152, 0.01424700000006851, 0.015379100000018298, 0.017375500000071042, 0.019320500000048924, 0.02134410000007847, 0.022642799999857743, 0.024453700000094614, 0.02659750000020722, 0.028596800000059375, 0.03026780000004692, 0.03215469999986453, 0.03595580000001064, 0.03568049999989853, 0.03952879999997094, 0.042360799999869414, 0.043592200000148296, 0.0452560999999605, 0.04640130000007048, 0.05141439999988506, 0.0532600999999886, 0.05586259999995491, 0.057835699999941426, 0.05815159999997377, 0.060459600000058344, 0.06181179999998676, 0.06610709999995379, 0.06672409999987394, 0.06945670000004611, 0.07284419999996317, 0.07417059999988851, 0.07763759999988906, 0.08612670000002254, 0.08094820000019354, 0.08341919999998026, 0.08738710000011451, 0.0874793000000409, 0.09031879999997727, 0.09548900000004323, 0.09637979999979507, 0.09990160000006654, 0.10050580000006448]\n"
     ]
    }
   ],
   "source": [
    "print(ts)"
   ]
  },
  {
   "cell_type": "code",
   "execution_count": 4,
   "metadata": {},
   "outputs": [
    {
     "data": {
      "text/plain": [
       "<matplotlib.legend.Legend at 0x24f6b6b48b0>"
      ]
     },
     "execution_count": 4,
     "metadata": {},
     "output_type": "execute_result"
    },
    {
     "data": {
      "image/png": "[encoded data removed]",
      "text/plain": [
       "<Figure size 432x288 with 1 Axes>"
      ]
     },
     "metadata": {
      "needs_background": "light"
     },
     "output_type": "display_data"
    }
   ],
   "source": [
    "import math\n",
    "import numpy as np\n",
    "import matplotlib.pyplot as plt\n",
    "fig = plt.figure(\"My First Figure\")\n",
    "ax = fig.add_subplot(1,1,1)\n",
    "n = 49\n",
    "log2 = [math.log(n,2) for x in range(1,n) ]\n",
    "lin = [x for x in range(1,n)]\n",
    "ax.plot(log2, label=r\"$x^2$\")\n",
    "ax.plot(lin, label=r\"$n$\")\n",
    "#ax.plot(ts, label=\"Tim Sort\")\n",
    "ax.legend()"
   ]
  },
  {
   "cell_type": "code",
   "execution_count": null,
   "metadata": {},
   "outputs": [],
   "source": [
    "print(r\"Hello\\n\\n\\n\\nThere\")"
   ]
  },
  {
   "cell_type": "code",
   "execution_count": null,
   "metadata": {},
   "outputs": [],
   "source": []
  }
 ],
 "metadata": {
  "kernelspec": {
   "display_name": "Python 3",
   "language": "python",
   "name": "python3"
  },
  "language_info": {
   "codemirror_mode": {
    "name": "ipython",
    "version": 3
   },
   "file_extension": ".py",
   "mimetype": "text/x-python",
   "name": "python",
   "nbconvert_exporter": "python",
   "pygments_lexer": "ipython3",
   "version": "3.8.8"
  }
 },
 "nbformat": 4,
 "nbformat_minor": 4
}
