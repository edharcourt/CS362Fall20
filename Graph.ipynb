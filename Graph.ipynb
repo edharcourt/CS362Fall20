{
 "cells": [
  {
   "cell_type": "code",
   "execution_count": 6,
   "metadata": {},
   "outputs": [],
   "source": [
    "from typing import TypeVar, List, Dict, Tuple\n",
    "T = TypeVar(\"T\")\n",
    "\n",
    "class Graph:\n",
    "\n",
    "    def __init__(self):\n",
    "        self._vertices: Dict[T, List[T]] = {}\n",
    "\n",
    "    def add_edge(self, v: T, u: T) -> None:\n",
    "        if v not in self._vertices:\n",
    "            self._vertices[v] = []\n",
    "        if u not in self._vertices:\n",
    "            self._vertices[u] = []\n",
    "\n",
    "        self._vertices[v].append(u)\n",
    "        self._vertices[u].append(v)\n",
    "\n",
    "    # get the list of edges for vertex v\n",
    "    def get_edges(self, v:T):\n",
    "        return self._vertices[v]\n",
    "    \n",
    "    # get a list of the vertices in the graph\n",
    "    def get_vertices(self) -> List[T]:\n",
    "        return self._vertices.keys()\n",
    "    \n",
    "    def edge_list(self) -> List[Tuple[T,T]]:\n",
    "        l = []\n",
    "        for v in self._vertices:\n",
    "            for e in self._vertices[v]:\n",
    "                l.append((v, e))\n",
    "        return l\n",
    "    \n",
    "    def __str__(self):\n",
    "        r = \"\"\n",
    "        for u in self.get_vertices():\n",
    "            r += \"{0} --> [\".format(u)\n",
    "            for v in self.get_edges(u):\n",
    "                r+= \"{0}, \".format(v)\n",
    "            r += '{0}{0}]\\n'.format(chr(0x8))\n",
    "        return r\n",
    "            \n"
   ]
  },
  {
   "cell_type": "code",
   "execution_count": 8,
   "metadata": {},
   "outputs": [
    {
     "name": "stdout",
     "output_type": "stream",
     "text": [
      "dict_keys(['Seattle', 'Chicago', 'San Francisco', 'Riverside', 'Los Angeles', 'Phoenix', 'Dallas', 'Houston', 'Atlanta', 'Miami', 'Washington', 'Detroit', 'Boston', 'New York', 'Philadelphia', 'Montreal'])\n"
     ]
    }
   ],
   "source": [
    "# This is a sample Python script.\n",
    "\n",
    "# Press Shift+F10 to execute it or replace it with your code.\n",
    "# Press Double Shift to search everywhere for classes, files, tool windows, actions, and settings.\n",
    "#from webweb import Web    # pip install webweb\n",
    "#from Graph import Graph\n",
    "\n",
    "\n",
    "def build_cities_graph():\n",
    "    cities = Graph()\n",
    "\n",
    "    cities.add_edge(\"Seattle\", \"Chicago\")\n",
    "    cities.add_edge(\"Seattle\", \"San Francisco\")\n",
    "    cities.add_edge(\"San Francisco\", \"Riverside\")\n",
    "    cities.add_edge(\"San Francisco\", \"Los Angeles\")\n",
    "    cities.add_edge(\"Los Angeles\", \"Riverside\")\n",
    "    cities.add_edge(\"Los Angeles\", \"Phoenix\")\n",
    "    cities.add_edge(\"Riverside\", \"Phoenix\")\n",
    "    cities.add_edge(\"Riverside\", \"Chicago\")\n",
    "    cities.add_edge(\"Phoenix\", \"Dallas\")\n",
    "    cities.add_edge(\"Phoenix\", \"Houston\")\n",
    "    cities.add_edge(\"Dallas\", \"Chicago\")\n",
    "    cities.add_edge(\"Dallas\", \"Atlanta\")\n",
    "    cities.add_edge(\"Dallas\", \"Houston\")\n",
    "    cities.add_edge(\"Houston\", \"Atlanta\")\n",
    "    cities.add_edge(\"Houston\", \"Miami\")\n",
    "    cities.add_edge(\"Atlanta\", \"Chicago\")\n",
    "    cities.add_edge(\"Atlanta\", \"Washington\")\n",
    "    cities.add_edge(\"Atlanta\", \"Miami\")\n",
    "    cities.add_edge(\"Miami\", \"Washington\")\n",
    "    cities.add_edge(\"Chicago\", \"Detroit\")\n",
    "    cities.add_edge(\"Detroit\", \"Boston\")\n",
    "    cities.add_edge(\"Detroit\", \"Washington\")\n",
    "    cities.add_edge(\"Detroit\", \"New York\")\n",
    "    cities.add_edge(\"Boston\", \"New York\")\n",
    "    cities.add_edge(\"New York\", \"Philadelphia\")\n",
    "    cities.add_edge(\"Philadelphia\", \"Washington\")\n",
    "    cities.add_edge(\"Boston\", \"Montreal\")\n",
    "    return cities\n",
    "\n",
    "\n",
    "# Press the green button in the gutter to run the script.\n",
    "if __name__ == '__main__':\n",
    "    g = build_cities_graph()\n",
    "    print(g.get_vertices())\n",
    "    edges = g.edge_list()\n",
    "    #Web(edges).show()\n"
   ]
  },
  {
   "cell_type": "code",
   "execution_count": 9,
   "metadata": {},
   "outputs": [
    {
     "name": "stdout",
     "output_type": "stream",
     "text": [
      "Seattle --> [Chicago, San Francisco]\n",
      "Chicago --> [Seattle, Riverside, Dallas, Atlanta, Detroit]\n",
      "San Francisco --> [Seattle, Riverside, Los Angeles]\n",
      "Riverside --> [San Francisco, Los Angeles, Phoenix, Chicago]\n",
      "Los Angeles --> [San Francisco, Riverside, Phoenix]\n",
      "Phoenix --> [Los Angeles, Riverside, Dallas, Houston]\n",
      "Dallas --> [Phoenix, Chicago, Atlanta, Houston]\n",
      "Houston --> [Phoenix, Dallas, Atlanta, Miami]\n",
      "Atlanta --> [Dallas, Houston, Chicago, Washington, Miami]\n",
      "Miami --> [Houston, Atlanta, Washington]\n",
      "Washington --> [Atlanta, Miami, Detroit, Philadelphia]\n",
      "Detroit --> [Chicago, Boston, Washington, New York]\n",
      "Boston --> [Detroit, New York, Montreal]\n",
      "New York --> [Detroit, Boston, Philadelphia]\n",
      "Philadelphia --> [New York, Washington]\n",
      "Montreal --> [Boston]\n",
      "\n"
     ]
    }
   ],
   "source": [
    "print(g)"
   ]
  },
  {
   "cell_type": "code",
   "execution_count": 34,
   "metadata": {},
   "outputs": [],
   "source": [
    "import graphviz\n",
    "# conda install graphviz\n",
    "# conda install python-graphiz\n",
    "\n",
    "def g2gviz(g: Graph, fn: str) -> None:\n",
    "    gv = graphviz.Graph(format = 'png', filename = fn)\n",
    "    edges = g.edge_list()\n",
    "    nodups = []\n",
    "    for (u,v) in edges:\n",
    "        if (v,u) not in nodups:\n",
    "            nodups.append((u,v))\n",
    "        \n",
    "    for (u,v) in nodups:\n",
    "        gv.edge(u,v)\n",
    "        \n",
    "    return gv"
   ]
  },
  {
   "cell_type": "code",
   "execution_count": 33,
   "metadata": {},
   "outputs": [
    {
     "data": {
      "image/svg+xml": [
       "<?xml version=\"1.0\" encoding=\"UTF-8\" standalone=\"no\"?>\r\n",
       "<!DOCTYPE svg PUBLIC \"-//W3C//DTD SVG 1.1//EN\"\r\n",
       " \"http://www.w3.org/Graphics/SVG/1.1/DTD/svg11.dtd\">\r\n",
       "<!-- Generated by graphviz version 2.38.0 (20140413.2041)\r\n",
       " -->\r\n",
       "<!-- Title: %3 Pages: 1 -->\r\n",
       "<svg width=\"408pt\" height=\"980pt\"\r\n",
       " viewBox=\"0.00 0.00 407.99 980.00\" xmlns=\"http://www.w3.org/2000/svg\" xmlns:xlink=\"http://www.w3.org/1999/xlink\">\r\n",
       "<g id=\"graph0\" class=\"graph\" transform=\"scale(1 1) rotate(0) translate(4 976)\">\r\n",
       "<title>%3</title>\r\n",
       "<polygon fill=\"white\" stroke=\"none\" points=\"-4,4 -4,-976 403.991,-976 403.991,4 -4,4\"/>\r\n",
       "<!-- Seattle -->\r\n",
       "<g id=\"node1\" class=\"node\"><title>Seattle</title>\r\n",
       "<ellipse fill=\"none\" stroke=\"black\" cx=\"159.895\" cy=\"-954\" rx=\"34.394\" ry=\"18\"/>\r\n",
       "<text text-anchor=\"middle\" x=\"159.895\" y=\"-950.3\" font-family=\"Times New Roman,serif\" font-size=\"14.00\">Seattle</text>\r\n",
       "</g>\r\n",
       "<!-- Chicago -->\r\n",
       "<g id=\"node2\" class=\"node\"><title>Chicago</title>\r\n",
       "<ellipse fill=\"none\" stroke=\"black\" cx=\"220.895\" cy=\"-882\" rx=\"40.8928\" ry=\"18\"/>\r\n",
       "<text text-anchor=\"middle\" x=\"220.895\" y=\"-878.3\" font-family=\"Times New Roman,serif\" font-size=\"14.00\">Chicago</text>\r\n",
       "</g>\r\n",
       "<!-- Seattle&#45;&#45;Chicago -->\r\n",
       "<g id=\"edge1\" class=\"edge\"><title>Seattle&#45;&#45;Chicago</title>\r\n",
       "<path fill=\"none\" stroke=\"black\" d=\"M173.737,-937.116C183.579,-925.821 196.76,-910.696 206.685,-899.307\"/>\r\n",
       "</g>\r\n",
       "<!-- San Francisco -->\r\n",
       "<g id=\"node3\" class=\"node\"><title>San Francisco</title>\r\n",
       "<ellipse fill=\"none\" stroke=\"black\" cx=\"98.895\" cy=\"-882\" rx=\"63.0888\" ry=\"18\"/>\r\n",
       "<text text-anchor=\"middle\" x=\"98.895\" y=\"-878.3\" font-family=\"Times New Roman,serif\" font-size=\"14.00\">San Francisco</text>\r\n",
       "</g>\r\n",
       "<!-- Seattle&#45;&#45;San Francisco -->\r\n",
       "<g id=\"edge2\" class=\"edge\"><title>Seattle&#45;&#45;San Francisco</title>\r\n",
       "<path fill=\"none\" stroke=\"black\" d=\"M146.053,-937.116C136.351,-925.983 123.406,-911.127 113.533,-899.797\"/>\r\n",
       "</g>\r\n",
       "<!-- Riverside -->\r\n",
       "<g id=\"node4\" class=\"node\"><title>Riverside</title>\r\n",
       "<ellipse fill=\"none\" stroke=\"black\" cx=\"128.895\" cy=\"-810\" rx=\"44.6926\" ry=\"18\"/>\r\n",
       "<text text-anchor=\"middle\" x=\"128.895\" y=\"-806.3\" font-family=\"Times New Roman,serif\" font-size=\"14.00\">Riverside</text>\r\n",
       "</g>\r\n",
       "<!-- Chicago&#45;&#45;Riverside -->\r\n",
       "<g id=\"edge3\" class=\"edge\"><title>Chicago&#45;&#45;Riverside</title>\r\n",
       "<path fill=\"none\" stroke=\"black\" d=\"M201.384,-866.155C185.982,-854.436 164.571,-838.145 149.014,-826.308\"/>\r\n",
       "</g>\r\n",
       "<!-- Dallas -->\r\n",
       "<g id=\"node5\" class=\"node\"><title>Dallas</title>\r\n",
       "<ellipse fill=\"none\" stroke=\"black\" cx=\"179.895\" cy=\"-594\" rx=\"32.4942\" ry=\"18\"/>\r\n",
       "<text text-anchor=\"middle\" x=\"179.895\" y=\"-590.3\" font-family=\"Times New Roman,serif\" font-size=\"14.00\">Dallas</text>\r\n",
       "</g>\r\n",
       "<!-- Chicago&#45;&#45;Dallas -->\r\n",
       "<g id=\"edge4\" class=\"edge\"><title>Chicago&#45;&#45;Dallas</title>\r\n",
       "<path fill=\"none\" stroke=\"black\" d=\"M218.453,-863.966C211.178,-813.218 189.702,-663.407 182.376,-612.306\"/>\r\n",
       "</g>\r\n",
       "<!-- Atlanta -->\r\n",
       "<g id=\"node6\" class=\"node\"><title>Atlanta</title>\r\n",
       "<ellipse fill=\"none\" stroke=\"black\" cx=\"197.895\" cy=\"-450\" rx=\"36.2938\" ry=\"18\"/>\r\n",
       "<text text-anchor=\"middle\" x=\"197.895\" y=\"-446.3\" font-family=\"Times New Roman,serif\" font-size=\"14.00\">Atlanta</text>\r\n",
       "</g>\r\n",
       "<!-- Chicago&#45;&#45;Atlanta -->\r\n",
       "<g id=\"edge5\" class=\"edge\"><title>Chicago&#45;&#45;Atlanta</title>\r\n",
       "<path fill=\"none\" stroke=\"black\" d=\"M224.649,-864.049C230.186,-837.521 239.895,-784.517 239.895,-739 239.895,-739 239.895,-739 239.895,-593 239.895,-545.953 218.433,-493.607 206.193,-467.578\"/>\r\n",
       "</g>\r\n",
       "<!-- Detroit -->\r\n",
       "<g id=\"node7\" class=\"node\"><title>Detroit</title>\r\n",
       "<ellipse fill=\"none\" stroke=\"black\" cx=\"277.895\" cy=\"-234\" rx=\"35.9954\" ry=\"18\"/>\r\n",
       "<text text-anchor=\"middle\" x=\"277.895\" y=\"-230.3\" font-family=\"Times New Roman,serif\" font-size=\"14.00\">Detroit</text>\r\n",
       "</g>\r\n",
       "<!-- Chicago&#45;&#45;Detroit -->\r\n",
       "<g id=\"edge6\" class=\"edge\"><title>Chicago&#45;&#45;Detroit</title>\r\n",
       "<path fill=\"none\" stroke=\"black\" d=\"M232.43,-864.384C249.085,-838.722 277.895,-787.348 277.895,-739 277.895,-739 277.895,-739 277.895,-377 277.895,-331.885 277.895,-278.708 277.895,-252.049\"/>\r\n",
       "</g>\r\n",
       "<!-- San Francisco&#45;&#45;Riverside -->\r\n",
       "<g id=\"edge7\" class=\"edge\"><title>San Francisco&#45;&#45;Riverside</title>\r\n",
       "<path fill=\"none\" stroke=\"black\" d=\"M106.157,-864.055C110.874,-853.049 116.996,-838.764 121.7,-827.789\"/>\r\n",
       "</g>\r\n",
       "<!-- Los Angeles -->\r\n",
       "<g id=\"node8\" class=\"node\"><title>Los Angeles</title>\r\n",
       "<ellipse fill=\"none\" stroke=\"black\" cx=\"55.895\" cy=\"-738\" rx=\"55.7903\" ry=\"18\"/>\r\n",
       "<text text-anchor=\"middle\" x=\"55.895\" y=\"-734.3\" font-family=\"Times New Roman,serif\" font-size=\"14.00\">Los Angeles</text>\r\n",
       "</g>\r\n",
       "<!-- San Francisco&#45;&#45;Los Angeles -->\r\n",
       "<g id=\"edge8\" class=\"edge\"><title>San Francisco&#45;&#45;Los Angeles</title>\r\n",
       "<path fill=\"none\" stroke=\"black\" d=\"M89.9248,-863.711C84.9347,-853.532 78.9347,-840.282 74.895,-828 66.8486,-803.536 61.346,-774.144 58.4099,-756.017\"/>\r\n",
       "</g>\r\n",
       "<!-- Riverside&#45;&#45;Los Angeles -->\r\n",
       "<g id=\"edge9\" class=\"edge\"><title>Riverside&#45;&#45;Los Angeles</title>\r\n",
       "<path fill=\"none\" stroke=\"black\" d=\"M112.33,-793.116C100.552,-781.821 84.7776,-766.696 72.9009,-755.307\"/>\r\n",
       "</g>\r\n",
       "<!-- Phoenix -->\r\n",
       "<g id=\"node9\" class=\"node\"><title>Phoenix</title>\r\n",
       "<ellipse fill=\"none\" stroke=\"black\" cx=\"126.895\" cy=\"-666\" rx=\"40.0939\" ry=\"18\"/>\r\n",
       "<text text-anchor=\"middle\" x=\"126.895\" y=\"-662.3\" font-family=\"Times New Roman,serif\" font-size=\"14.00\">Phoenix</text>\r\n",
       "</g>\r\n",
       "<!-- Riverside&#45;&#45;Phoenix -->\r\n",
       "<g id=\"edge10\" class=\"edge\"><title>Riverside&#45;&#45;Phoenix</title>\r\n",
       "<path fill=\"none\" stroke=\"black\" d=\"M128.654,-791.871C128.269,-764.578 127.522,-711.52 127.137,-684.189\"/>\r\n",
       "</g>\r\n",
       "<!-- Dallas&#45;&#45;Atlanta -->\r\n",
       "<g id=\"edge14\" class=\"edge\"><title>Dallas&#45;&#45;Atlanta</title>\r\n",
       "<path fill=\"none\" stroke=\"black\" d=\"M182.066,-575.871C185.526,-548.578 192.252,-495.52 195.716,-468.189\"/>\r\n",
       "</g>\r\n",
       "<!-- Houston -->\r\n",
       "<g id=\"node10\" class=\"node\"><title>Houston</title>\r\n",
       "<ellipse fill=\"none\" stroke=\"black\" cx=\"128.895\" cy=\"-522\" rx=\"42.4939\" ry=\"18\"/>\r\n",
       "<text text-anchor=\"middle\" x=\"128.895\" y=\"-518.3\" font-family=\"Times New Roman,serif\" font-size=\"14.00\">Houston</text>\r\n",
       "</g>\r\n",
       "<!-- Dallas&#45;&#45;Houston -->\r\n",
       "<g id=\"edge15\" class=\"edge\"><title>Dallas&#45;&#45;Houston</title>\r\n",
       "<path fill=\"none\" stroke=\"black\" d=\"M168.322,-577.116C160.093,-565.821 149.073,-550.696 140.776,-539.307\"/>\r\n",
       "</g>\r\n",
       "<!-- Miami -->\r\n",
       "<g id=\"node11\" class=\"node\"><title>Miami</title>\r\n",
       "<ellipse fill=\"none\" stroke=\"black\" cx=\"136.895\" cy=\"-378\" rx=\"33.2948\" ry=\"18\"/>\r\n",
       "<text text-anchor=\"middle\" x=\"136.895\" y=\"-374.3\" font-family=\"Times New Roman,serif\" font-size=\"14.00\">Miami</text>\r\n",
       "</g>\r\n",
       "<!-- Atlanta&#45;&#45;Miami -->\r\n",
       "<g id=\"edge19\" class=\"edge\"><title>Atlanta&#45;&#45;Miami</title>\r\n",
       "<path fill=\"none\" stroke=\"black\" d=\"M184.053,-433.116C174.07,-421.66 160.653,-406.263 150.682,-394.821\"/>\r\n",
       "</g>\r\n",
       "<!-- Washington -->\r\n",
       "<g id=\"node12\" class=\"node\"><title>Washington</title>\r\n",
       "<ellipse fill=\"none\" stroke=\"black\" cx=\"179.895\" cy=\"-306\" rx=\"53.8905\" ry=\"18\"/>\r\n",
       "<text text-anchor=\"middle\" x=\"179.895\" y=\"-302.3\" font-family=\"Times New Roman,serif\" font-size=\"14.00\">Washington</text>\r\n",
       "</g>\r\n",
       "<!-- Atlanta&#45;&#45;Washington -->\r\n",
       "<g id=\"edge18\" class=\"edge\"><title>Atlanta&#45;&#45;Washington</title>\r\n",
       "<path fill=\"none\" stroke=\"black\" d=\"M195.724,-431.871C192.264,-404.578 185.538,-351.52 182.074,-324.189\"/>\r\n",
       "</g>\r\n",
       "<!-- Boston -->\r\n",
       "<g id=\"node14\" class=\"node\"><title>Boston</title>\r\n",
       "<ellipse fill=\"none\" stroke=\"black\" cx=\"277.895\" cy=\"-162\" rx=\"37.0935\" ry=\"18\"/>\r\n",
       "<text text-anchor=\"middle\" x=\"277.895\" y=\"-158.3\" font-family=\"Times New Roman,serif\" font-size=\"14.00\">Boston</text>\r\n",
       "</g>\r\n",
       "<!-- Detroit&#45;&#45;Boston -->\r\n",
       "<g id=\"edge23\" class=\"edge\"><title>Detroit&#45;&#45;Boston</title>\r\n",
       "<path fill=\"none\" stroke=\"black\" d=\"M277.895,-215.697C277.895,-204.846 277.895,-190.917 277.895,-180.104\"/>\r\n",
       "</g>\r\n",
       "<!-- New York -->\r\n",
       "<g id=\"node15\" class=\"node\"><title>New York</title>\r\n",
       "<ellipse fill=\"none\" stroke=\"black\" cx=\"351.895\" cy=\"-90\" rx=\"48.1917\" ry=\"18\"/>\r\n",
       "<text text-anchor=\"middle\" x=\"351.895\" y=\"-86.3\" font-family=\"Times New Roman,serif\" font-size=\"14.00\">New York</text>\r\n",
       "</g>\r\n",
       "<!-- Detroit&#45;&#45;New York -->\r\n",
       "<g id=\"edge24\" class=\"edge\"><title>Detroit&#45;&#45;New York</title>\r\n",
       "<path fill=\"none\" stroke=\"black\" d=\"M294.293,-217.622C304.062,-207.69 316.047,-194.037 323.895,-180 336.859,-156.813 344.704,-126.809 348.668,-108.238\"/>\r\n",
       "</g>\r\n",
       "<!-- Los Angeles&#45;&#45;Phoenix -->\r\n",
       "<g id=\"edge11\" class=\"edge\"><title>Los Angeles&#45;&#45;Phoenix</title>\r\n",
       "<path fill=\"none\" stroke=\"black\" d=\"M72.3623,-720.765C83.9964,-709.294 99.5025,-694.007 111.005,-682.666\"/>\r\n",
       "</g>\r\n",
       "<!-- Phoenix&#45;&#45;Dallas -->\r\n",
       "<g id=\"edge12\" class=\"edge\"><title>Phoenix&#45;&#45;Dallas</title>\r\n",
       "<path fill=\"none\" stroke=\"black\" d=\"M139.188,-648.765C147.75,-637.456 159.122,-622.437 167.669,-611.147\"/>\r\n",
       "</g>\r\n",
       "<!-- Phoenix&#45;&#45;Houston -->\r\n",
       "<g id=\"edge13\" class=\"edge\"><title>Phoenix&#45;&#45;Houston</title>\r\n",
       "<path fill=\"none\" stroke=\"black\" d=\"M127.136,-647.871C127.521,-620.578 128.268,-567.52 128.653,-540.189\"/>\r\n",
       "</g>\r\n",
       "<!-- Houston&#45;&#45;Atlanta -->\r\n",
       "<g id=\"edge16\" class=\"edge\"><title>Houston&#45;&#45;Atlanta</title>\r\n",
       "<path fill=\"none\" stroke=\"black\" d=\"M144.552,-505.116C155.844,-493.66 171.022,-478.263 182.3,-466.821\"/>\r\n",
       "</g>\r\n",
       "<!-- Houston&#45;&#45;Miami -->\r\n",
       "<g id=\"edge17\" class=\"edge\"><title>Houston&#45;&#45;Miami</title>\r\n",
       "<path fill=\"none\" stroke=\"black\" d=\"M129.86,-503.871C131.398,-476.578 134.387,-423.52 135.927,-396.189\"/>\r\n",
       "</g>\r\n",
       "<!-- Miami&#45;&#45;Washington -->\r\n",
       "<g id=\"edge20\" class=\"edge\"><title>Miami&#45;&#45;Washington</title>\r\n",
       "<path fill=\"none\" stroke=\"black\" d=\"M146.868,-360.765C153.616,-349.779 162.516,-335.292 169.376,-324.124\"/>\r\n",
       "</g>\r\n",
       "<!-- Washington&#45;&#45;Detroit -->\r\n",
       "<g id=\"edge21\" class=\"edge\"><title>Washington&#45;&#45;Detroit</title>\r\n",
       "<path fill=\"none\" stroke=\"black\" d=\"M201.644,-289.465C218.561,-277.381 241.832,-260.759 258.203,-249.066\"/>\r\n",
       "</g>\r\n",
       "<!-- Philadelphia -->\r\n",
       "<g id=\"node13\" class=\"node\"><title>Philadelphia</title>\r\n",
       "<ellipse fill=\"none\" stroke=\"black\" cx=\"261.895\" cy=\"-18\" rx=\"53.8905\" ry=\"18\"/>\r\n",
       "<text text-anchor=\"middle\" x=\"261.895\" y=\"-14.3\" font-family=\"Times New Roman,serif\" font-size=\"14.00\">Philadelphia</text>\r\n",
       "</g>\r\n",
       "<!-- Washington&#45;&#45;Philadelphia -->\r\n",
       "<g id=\"edge22\" class=\"edge\"><title>Washington&#45;&#45;Philadelphia</title>\r\n",
       "<path fill=\"none\" stroke=\"black\" d=\"M176.034,-287.915C167.855,-247.547 152.515,-144.24 190.895,-72 199.916,-55.0202 217.055,-41.986 232.234,-33.0927\"/>\r\n",
       "</g>\r\n",
       "<!-- Boston&#45;&#45;New York -->\r\n",
       "<g id=\"edge25\" class=\"edge\"><title>Boston&#45;&#45;New York</title>\r\n",
       "<path fill=\"none\" stroke=\"black\" d=\"M294.318,-145.465C306.411,-134.026 322.803,-118.519 335.005,-106.977\"/>\r\n",
       "</g>\r\n",
       "<!-- Montreal -->\r\n",
       "<g id=\"node16\" class=\"node\"><title>Montreal</title>\r\n",
       "<ellipse fill=\"none\" stroke=\"black\" cx=\"242.895\" cy=\"-90\" rx=\"42.7926\" ry=\"18\"/>\r\n",
       "<text text-anchor=\"middle\" x=\"242.895\" y=\"-86.3\" font-family=\"Times New Roman,serif\" font-size=\"14.00\">Montreal</text>\r\n",
       "</g>\r\n",
       "<!-- Boston&#45;&#45;Montreal -->\r\n",
       "<g id=\"edge26\" class=\"edge\"><title>Boston&#45;&#45;Montreal</title>\r\n",
       "<path fill=\"none\" stroke=\"black\" d=\"M269.601,-144.411C264.102,-133.414 256.909,-119.027 251.373,-107.956\"/>\r\n",
       "</g>\r\n",
       "<!-- New York&#45;&#45;Philadelphia -->\r\n",
       "<g id=\"edge27\" class=\"edge\"><title>New York&#45;&#45;Philadelphia</title>\r\n",
       "<path fill=\"none\" stroke=\"black\" d=\"M331.921,-73.4647C317.11,-61.9451 296.996,-46.3006 282.124,-34.7339\"/>\r\n",
       "</g>\r\n",
       "</g>\r\n",
       "</svg>\r\n"
      ],
      "text/plain": [
       "<graphviz.dot.Graph at 0x1fee3021dc0>"
      ]
     },
     "execution_count": 33,
     "metadata": {},
     "output_type": "execute_result"
    }
   ],
   "source": [
    "gv = g2gviz(g,'states.png')\n",
    "gv"
   ]
  },
  {
   "cell_type": "code",
   "execution_count": 4,
   "metadata": {},
   "outputs": [],
   "source": [
    "def dfs(g: Graph, v:T) -> Tuple[List[T], Dict[T,int], Dict[T, int]]:\n",
    "\n",
    "    def explore(v:T):\n",
    "        nonlocal clock # clock is defined in the outer scope\n",
    "        visited[v] = True\n",
    "        order.append(v)\n",
    "        pre[v] = clock\n",
    "        clock += 1\n",
    "        \n",
    "        for e in g.get_edges(v):\n",
    "            if e not in visited:\n",
    "                explore(e)\n",
    "                \n",
    "        post[v] = clock\n",
    "        clock += 1\n",
    "\n",
    "    order = []         \n",
    "    visited = dict()\n",
    "    pre = dict()      # prevsit numbers\n",
    "    post = dict()     # postvisit numbers\n",
    "    clock = 0         # counter for numbers pre/post visits\n",
    "    \n",
    "    explore(v)\n",
    "    \n",
    "    for v in g.get_vertices():\n",
    "        if v not in visited:\n",
    "            explore(v)\n",
    "    return order, pre, post"
   ]
  },
  {
   "cell_type": "code",
   "execution_count": 5,
   "metadata": {},
   "outputs": [
    {
     "name": "stdout",
     "output_type": "stream",
     "text": [
      "['a', 'b', 'e', 'f', 'c', 'i', 'd', 'g', 'h']\n",
      "{'a': 0, 'b': 1, 'e': 2, 'f': 3, 'c': 4, 'i': 6, 'd': 12, 'g': 13, 'h': 14}\n",
      "{'c': 5, 'i': 7, 'f': 8, 'e': 9, 'b': 10, 'a': 11, 'h': 15, 'g': 16, 'd': 17}\n"
     ]
    }
   ],
   "source": [
    "g31 = Graph()   # exercise 3.1 graph \n",
    "g31.add_edge('a','b')\n",
    "g31.add_edge('a','e')\n",
    "g31.add_edge('b','b')\n",
    "g31.add_edge('b','e')\n",
    "g31.add_edge('c','f')\n",
    "g31.add_edge('e','f')\n",
    "g31.add_edge('f','i')\n",
    "g31.add_edge('d', 'g')\n",
    "g31.add_edge('g', 'h')\n",
    "g31.add_edge('h', 'd')\n",
    "order, pre, post = dfs(g31, 'a')\n",
    "print(order)\n",
    "print(pre)\n",
    "print(post)"
   ]
  },
  {
   "cell_type": "markdown",
   "metadata": {},
   "source": [
    "### Adding pre/post order numbering"
   ]
  },
  {
   "cell_type": "code",
   "execution_count": 6,
   "metadata": {},
   "outputs": [],
   "source": [
    "from typing import List, Tuple, TypeVar\n",
    "T = TypeVar(\"T\")\n",
    "\n",
    "def dfs(g: Graph, v:T) -> List[T]:\n",
    "\n",
    "    def explore(v: T) -> None:\n",
    "        nonlocal clock\n",
    "        visited[v] = True\n",
    "        order.append(v)\n",
    "        pre[v] = clock\n",
    "        clock += 1\n",
    "\n",
    "        for e in g.get_edges(v):\n",
    "            if not visited[e]:\n",
    "                edge_to[e] = v\n",
    "                explore(e)\n",
    "        post[v] = clock\n",
    "        clock += 1\n",
    "\n",
    "    order = []\n",
    "    visited = {k : False for k in g.get_vertices()}\n",
    "    pre = {}\n",
    "    post = {}\n",
    "    edge_to = {}\n",
    "    clock = 0\n",
    " \n",
    "    for v in g.get_vertices():\n",
    "        if not visited[v]:\n",
    "            explore(v)\n",
    "    return order, pre, post, edge_to"
   ]
  },
  {
   "cell_type": "code",
   "execution_count": 7,
   "metadata": {},
   "outputs": [],
   "source": [
    "order, pre, post, edge_to = dfs(g, 'a')"
   ]
  },
  {
   "cell_type": "code",
   "execution_count": 8,
   "metadata": {},
   "outputs": [
    {
     "data": {
      "text/plain": [
       "(['Seattle',\n",
       "  'Chicago',\n",
       "  'Riverside',\n",
       "  'San Francisco',\n",
       "  'Los Angeles',\n",
       "  'Phoenix',\n",
       "  'Dallas',\n",
       "  'Atlanta',\n",
       "  'Houston',\n",
       "  'Miami',\n",
       "  'Washington',\n",
       "  'Detroit',\n",
       "  'Boston',\n",
       "  'New York',\n",
       "  'Philadelphia',\n",
       "  'Montreal'],\n",
       " {'Seattle': 0,\n",
       "  'Chicago': 1,\n",
       "  'Riverside': 2,\n",
       "  'San Francisco': 3,\n",
       "  'Los Angeles': 4,\n",
       "  'Phoenix': 5,\n",
       "  'Dallas': 6,\n",
       "  'Atlanta': 7,\n",
       "  'Houston': 8,\n",
       "  'Miami': 9,\n",
       "  'Washington': 10,\n",
       "  'Detroit': 11,\n",
       "  'Boston': 12,\n",
       "  'New York': 13,\n",
       "  'Philadelphia': 14,\n",
       "  'Montreal': 17},\n",
       " {'Philadelphia': 15,\n",
       "  'New York': 16,\n",
       "  'Montreal': 18,\n",
       "  'Boston': 19,\n",
       "  'Detroit': 20,\n",
       "  'Washington': 21,\n",
       "  'Miami': 22,\n",
       "  'Houston': 23,\n",
       "  'Atlanta': 24,\n",
       "  'Dallas': 25,\n",
       "  'Phoenix': 26,\n",
       "  'Los Angeles': 27,\n",
       "  'San Francisco': 28,\n",
       "  'Riverside': 29,\n",
       "  'Chicago': 30,\n",
       "  'Seattle': 31},\n",
       " {'Chicago': 'Seattle',\n",
       "  'Riverside': 'Chicago',\n",
       "  'San Francisco': 'Riverside',\n",
       "  'Los Angeles': 'San Francisco',\n",
       "  'Phoenix': 'Los Angeles',\n",
       "  'Dallas': 'Phoenix',\n",
       "  'Atlanta': 'Dallas',\n",
       "  'Houston': 'Atlanta',\n",
       "  'Miami': 'Houston',\n",
       "  'Washington': 'Miami',\n",
       "  'Detroit': 'Washington',\n",
       "  'Boston': 'Detroit',\n",
       "  'New York': 'Boston',\n",
       "  'Philadelphia': 'New York',\n",
       "  'Montreal': 'Boston'})"
      ]
     },
     "execution_count": 8,
     "metadata": {},
     "output_type": "execute_result"
    }
   ],
   "source": [
    "order,pre,post,edge_to"
   ]
  },
  {
   "cell_type": "code",
   "execution_count": 9,
   "metadata": {},
   "outputs": [],
   "source": [
    "def path(edge_to, x:T, y:T):\n",
    "    s = []\n",
    "    curr = y\n",
    "    while curr != x:\n",
    "        s.append(curr)\n",
    "        curr = edge_to[curr]\n",
    "    s.append(x)\n",
    "    return s\n"
   ]
  },
  {
   "cell_type": "code",
   "execution_count": 10,
   "metadata": {},
   "outputs": [
    {
     "ename": "KeyError",
     "evalue": "'i'",
     "output_type": "error",
     "traceback": [
      "\u001b[1;31m---------------------------------------------------------------------------\u001b[0m",
      "\u001b[1;31mKeyError\u001b[0m                                  Traceback (most recent call last)",
      "\u001b[1;32m<ipython-input-10-2c7ed8372f50>\u001b[0m in \u001b[0;36m<module>\u001b[1;34m\u001b[0m\n\u001b[1;32m----> 1\u001b[1;33m \u001b[0mpath\u001b[0m\u001b[1;33m(\u001b[0m\u001b[0medge_to\u001b[0m\u001b[1;33m,\u001b[0m \u001b[1;34m'a'\u001b[0m\u001b[1;33m,\u001b[0m \u001b[1;34m'i'\u001b[0m\u001b[1;33m)\u001b[0m\u001b[1;33m\u001b[0m\u001b[1;33m\u001b[0m\u001b[0m\n\u001b[0m",
      "\u001b[1;32m<ipython-input-9-edb39213d31f>\u001b[0m in \u001b[0;36mpath\u001b[1;34m(edge_to, x, y)\u001b[0m\n\u001b[0;32m      4\u001b[0m     \u001b[1;32mwhile\u001b[0m \u001b[0mcurr\u001b[0m \u001b[1;33m!=\u001b[0m \u001b[0mx\u001b[0m\u001b[1;33m:\u001b[0m\u001b[1;33m\u001b[0m\u001b[1;33m\u001b[0m\u001b[0m\n\u001b[0;32m      5\u001b[0m         \u001b[0ms\u001b[0m\u001b[1;33m.\u001b[0m\u001b[0mappend\u001b[0m\u001b[1;33m(\u001b[0m\u001b[0mcurr\u001b[0m\u001b[1;33m)\u001b[0m\u001b[1;33m\u001b[0m\u001b[1;33m\u001b[0m\u001b[0m\n\u001b[1;32m----> 6\u001b[1;33m         \u001b[0mcurr\u001b[0m \u001b[1;33m=\u001b[0m \u001b[0medge_to\u001b[0m\u001b[1;33m[\u001b[0m\u001b[0mcurr\u001b[0m\u001b[1;33m]\u001b[0m\u001b[1;33m\u001b[0m\u001b[1;33m\u001b[0m\u001b[0m\n\u001b[0m\u001b[0;32m      7\u001b[0m     \u001b[0ms\u001b[0m\u001b[1;33m.\u001b[0m\u001b[0mappend\u001b[0m\u001b[1;33m(\u001b[0m\u001b[0mx\u001b[0m\u001b[1;33m)\u001b[0m\u001b[1;33m\u001b[0m\u001b[1;33m\u001b[0m\u001b[0m\n\u001b[0;32m      8\u001b[0m     \u001b[1;32mreturn\u001b[0m \u001b[0ms\u001b[0m\u001b[1;33m\u001b[0m\u001b[1;33m\u001b[0m\u001b[0m\n",
      "\u001b[1;31mKeyError\u001b[0m: 'i'"
     ]
    }
   ],
   "source": [
    "path(edge_to, 'a', 'i')"
   ]
  },
  {
   "cell_type": "markdown",
   "metadata": {},
   "source": [
    "## Directed Graphs"
   ]
  },
  {
   "cell_type": "code",
   "execution_count": 11,
   "metadata": {},
   "outputs": [],
   "source": [
    "class DiGraph(Graph):\n",
    "\n",
    "    def __init__(self):\n",
    "        super().__init__()\n",
    "\n",
    "    def add_edge(self, v:T, u:T):\n",
    "        if v not in self.get_vertices():\n",
    "            self._vertices[v] = []\n",
    "        if u not in self._vertices:\n",
    "            self._vertices[u] = []\n",
    "\n",
    "        self._vertices[v].append(u)  # only append in one direction\n",
    "  "
   ]
  },
  {
   "cell_type": "markdown",
   "metadata": {},
   "source": [
    "A function to read a file of edges and return the DiGraph"
   ]
  },
  {
   "cell_type": "code",
   "execution_count": 12,
   "metadata": {},
   "outputs": [],
   "source": [
    "def build_digraph(fn: str) -> DiGraph:\n",
    "    f = open(fn)\n",
    "    dg = DiGraph()\n",
    "    for line in f:\n",
    "        (u,v) = line.strip().split(' ')\n",
    "        dg.add_edge(u,v)\n",
    "    \n",
    "    return dg\n"
   ]
  },
  {
   "cell_type": "markdown",
   "metadata": {},
   "source": [
    "## DFS with Stack"
   ]
  },
  {
   "cell_type": "code",
   "execution_count": 13,
   "metadata": {},
   "outputs": [],
   "source": [
    "def dfs(g: Graph, v:T):\n",
    "    order = []\n",
    "    visited = { }\n",
    "    s = Stack()\n",
    "    s.push(v)\n",
    "\n",
    "    while len(s) > 0:\n",
    "        curr = s.pop()\n",
    "        if curr not in visited:\n",
    "            visited[curr] = True\n",
    "            order.append(curr)\n",
    "            for e in g.get_edges(curr):\n",
    "                if e not in visited:\n",
    "                    s.push(e)\n",
    "    return order\n",
    "\n"
   ]
  },
  {
   "cell_type": "markdown",
   "metadata": {},
   "source": [
    "## Breadth First Search (BFS)"
   ]
  },
  {
   "cell_type": "code",
   "execution_count": 14,
   "metadata": {},
   "outputs": [],
   "source": [
    "from collections import deque\n",
    "\n",
    "def bfs(g: Graph, v:T) -> Tuple[List[T], Dict[T,T]]:\n",
    "    order = []\n",
    "    visited = { }\n",
    "    q = deque()\n",
    "    q.appendleft(v)\n",
    "    prev = dict()\n",
    "\n",
    "    while len(q) > 0:\n",
    "        curr = q.pop()  # removes right item in queue\n",
    "        if curr not in visited:\n",
    "            visited[curr] = True\n",
    "            order.append(curr)\n",
    "            for e in g.get_edges(curr):\n",
    "                if e not in visited:\n",
    "                    q.appendleft(e)\n",
    "                    prev[e] = curr\n",
    "    return order, prev\n",
    "\n"
   ]
  },
  {
   "cell_type": "code",
   "execution_count": 15,
   "metadata": {},
   "outputs": [],
   "source": [
    "dg = build_digraph('dg.txt')"
   ]
  },
  {
   "cell_type": "code",
   "execution_count": 16,
   "metadata": {},
   "outputs": [],
   "source": [
    "order, prev = bfs(dg,'7')"
   ]
  },
  {
   "cell_type": "code",
   "execution_count": 17,
   "metadata": {},
   "outputs": [],
   "source": [
    "def path(prev: Dict[T,T], x:T, y:T):\n",
    "    s = []\n",
    "    curr = y\n",
    "    while curr != x:\n",
    "        s.append(curr)\n",
    "        curr = prev[curr]\n",
    "    s.append(x)\n",
    "    return s[::-1]\n"
   ]
  },
  {
   "cell_type": "code",
   "execution_count": 18,
   "metadata": {},
   "outputs": [
    {
     "name": "stdout",
     "output_type": "stream",
     "text": [
      "['7', '9', '11', '12']\n"
     ]
    }
   ],
   "source": [
    "print(path(prev, '7', '12'))"
   ]
  },
  {
   "cell_type": "code",
   "execution_count": 19,
   "metadata": {},
   "outputs": [
    {
     "data": {
      "text/plain": [
       "{'9': '7',\n",
       " '6': '7',\n",
       " '10': '9',\n",
       " '11': '9',\n",
       " '0': '6',\n",
       " '8': '6',\n",
       " '4': '11',\n",
       " '12': '11',\n",
       " '1': '0',\n",
       " '5': '0',\n",
       " '2': '4',\n",
       " '3': '2'}"
      ]
     },
     "execution_count": 19,
     "metadata": {},
     "output_type": "execute_result"
    }
   ],
   "source": [
    "prev"
   ]
  },
  {
   "cell_type": "markdown",
   "metadata": {},
   "source": [
    "## Exercise - BFS\n",
    "Do a BFS if the following graph starting at Boston and showing the state of the Queue at each step.\n",
    "\n",
    "Also show the `prev` dictionary. Assume each city is a layover on a train ride. What path minimizes the number of layovers from Boston to Miami. Use abbreviartions for citinames like Bos, Det, LA"
   ]
  },
  {
   "cell_type": "markdown",
   "metadata": {},
   "source": [
    "![USA](images/USA-unweighted.png)"
   ]
  }
 ],
 "metadata": {
  "kernelspec": {
   "display_name": "Python 3",
   "language": "python",
   "name": "python3"
  },
  "language_info": {
   "codemirror_mode": {
    "name": "ipython",
    "version": 3
   },
   "file_extension": ".py",
   "mimetype": "text/x-python",
   "name": "python",
   "nbconvert_exporter": "python",
   "pygments_lexer": "ipython3",
   "version": "3.8.3"
  }
 },
 "nbformat": 4,
 "nbformat_minor": 4
}
