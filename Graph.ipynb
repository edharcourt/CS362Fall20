{
 "cells": [
  {
   "cell_type": "markdown",
   "metadata": {},
   "source": [
    "# Graph Algorithms"
   ]
  },
  {
   "cell_type": "markdown",
   "metadata": {},
   "source": [
    "## Undirected Graph"
   ]
  },
  {
   "cell_type": "code",
   "execution_count": 75,
   "metadata": {},
   "outputs": [],
   "source": [
    "from typing import TypeVar, List, Dict, Tuple\n",
    "T = TypeVar(\"T\")\n",
    "\n",
    "class Graph:\n",
    "    \"\"\"\n",
    "    An undirected Graph with adjacency lists (dictionary)\n",
    "    \"\"\"\n",
    "\n",
    "    def __init__(self):\n",
    "        \"\"\"\n",
    "        Constructor\n",
    "        \"\"\"\n",
    "        self._vertices: Dict[T, List[T]] = { }\n",
    "\n",
    "    def add_edge(self, v: T, u: T) -> None:\n",
    "        \"\"\"\n",
    "        Add an edge between v and u to the graph\n",
    "        \"\"\"\n",
    "        if v not in self._vertices:\n",
    "            self._vertices[v] = []\n",
    "        if u not in self._vertices:\n",
    "            self._vertices[u] = []\n",
    "\n",
    "        self._vertices[v].append(u)\n",
    "        self._vertices[u].append(v)\n",
    "\n",
    "    def get_edges(self, v:T):\n",
    "        \"\"\"\n",
    "        Return the list of edges for vertex v \n",
    "        \"\"\"\n",
    "        return self._vertices[v]\n",
    "    \n",
    "    def get_vertices(self) -> List[T]:\n",
    "        \"\"\"\n",
    "        Return the list of the vertices in the graph\n",
    "        \"\"\"\n",
    "        return self._vertices.keys()\n",
    "    \n",
    "    def edge_list(self) -> List[Tuple[T,T]]:\n",
    "        \"\"\"\n",
    "        Return the list of edges in the graph as a list of tuples. \n",
    "        \"\"\"\n",
    "        l = []\n",
    "        for v in self._vertices:\n",
    "            for e in self._vertices[v]:\n",
    "                l.append((v, e))\n",
    "        return l\n",
    "    \n",
    "    def __str__(self):\n",
    "        \"\"\"\n",
    "        Pretty print the adjacency lists of the graph.\n",
    "        \"\"\"\n",
    "        r = \"\"\n",
    "        for u in self.get_vertices():\n",
    "            r += \"{0} --> [\".format(u)\n",
    "            for v in self.get_edges(u):\n",
    "                r+= \"{0}, \".format(v)\n",
    "            r += '{0}{0}]\\n'.format(chr(0x8))\n",
    "        return r"
   ]
  },
  {
   "cell_type": "markdown",
   "metadata": {},
   "source": [
    "## Example graph of US cities"
   ]
  },
  {
   "cell_type": "markdown",
   "metadata": {},
   "source": [
    "![USA](images/USA-unweighted.png)"
   ]
  },
  {
   "cell_type": "code",
   "execution_count": 76,
   "metadata": {},
   "outputs": [],
   "source": [
    "# Build the Graph of US cities\n",
    "def build_cities_graph():\n",
    "    cities = Graph()\n",
    "\n",
    "    cities.add_edge(\"Seattle\", \"Chicago\")\n",
    "    cities.add_edge(\"Seattle\", \"San Francisco\")\n",
    "    cities.add_edge(\"San Francisco\", \"Riverside\")\n",
    "    cities.add_edge(\"San Francisco\", \"Los Angeles\")\n",
    "    cities.add_edge(\"Los Angeles\", \"Riverside\")\n",
    "    cities.add_edge(\"Los Angeles\", \"Phoenix\")\n",
    "    cities.add_edge(\"Riverside\", \"Phoenix\")\n",
    "    cities.add_edge(\"Riverside\", \"Chicago\")\n",
    "    cities.add_edge(\"Phoenix\", \"Dallas\")\n",
    "    cities.add_edge(\"Phoenix\", \"Houston\")\n",
    "    cities.add_edge(\"Dallas\", \"Chicago\")\n",
    "    cities.add_edge(\"Dallas\", \"Atlanta\")\n",
    "    cities.add_edge(\"Dallas\", \"Houston\")\n",
    "    cities.add_edge(\"Houston\", \"Atlanta\")\n",
    "    cities.add_edge(\"Houston\", \"Miami\")\n",
    "    cities.add_edge(\"Atlanta\", \"Chicago\")\n",
    "    cities.add_edge(\"Atlanta\", \"Washington\")\n",
    "    cities.add_edge(\"Atlanta\", \"Miami\")\n",
    "    cities.add_edge(\"Miami\", \"Washington\")\n",
    "    cities.add_edge(\"Chicago\", \"Detroit\")\n",
    "    cities.add_edge(\"Detroit\", \"Boston\")\n",
    "    cities.add_edge(\"Detroit\", \"Washington\")\n",
    "    cities.add_edge(\"Detroit\", \"New York\")\n",
    "    cities.add_edge(\"Boston\", \"New York\")\n",
    "    cities.add_edge(\"New York\", \"Philadelphia\")\n",
    "    cities.add_edge(\"Philadelphia\", \"Washington\")\n",
    "    return cities"
   ]
  },
  {
   "cell_type": "code",
   "execution_count": 77,
   "metadata": {},
   "outputs": [
    {
     "name": "stdout",
     "output_type": "stream",
     "text": [
      "Seattle --> [Chicago, San Francisco]\n",
      "Chicago --> [Seattle, Riverside, Dallas, Atlanta, Detroit]\n",
      "San Francisco --> [Seattle, Riverside, Los Angeles]\n",
      "Riverside --> [San Francisco, Los Angeles, Phoenix, Chicago]\n",
      "Los Angeles --> [San Francisco, Riverside, Phoenix]\n",
      "Phoenix --> [Los Angeles, Riverside, Dallas, Houston]\n",
      "Dallas --> [Phoenix, Chicago, Atlanta, Houston]\n",
      "Houston --> [Phoenix, Dallas, Atlanta, Miami]\n",
      "Atlanta --> [Dallas, Houston, Chicago, Washington, Miami]\n",
      "Miami --> [Houston, Atlanta, Washington]\n",
      "Washington --> [Atlanta, Miami, Detroit, Philadelphia]\n",
      "Detroit --> [Chicago, Boston, Washington, New York]\n",
      "Boston --> [Detroit, New York]\n",
      "New York --> [Detroit, Boston, Philadelphia]\n",
      "Philadelphia --> [New York, Washington]\n",
      "\n"
     ]
    }
   ],
   "source": [
    "g = build_cities_graph()\n",
    "print(g) # use __str__ method to pretty print adjacency lists"
   ]
  },
  {
   "cell_type": "markdown",
   "metadata": {},
   "source": [
    "## Depth First Search (DFS)\n",
    "\n",
    "Keep track of pre and post visit numbers"
   ]
  },
  {
   "cell_type": "code",
   "execution_count": 78,
   "metadata": {},
   "outputs": [],
   "source": [
    "def dfs(g: Graph, v:T) -> Tuple[List[T], Dict[T,int], Dict[T, int]]:\n",
    "\n",
    "    def explore(v:T):\n",
    "        nonlocal clock # clock is defined in the outer scope\n",
    "        visited[v] = True\n",
    "        order.append(v)\n",
    "        pre[v] = clock\n",
    "        clock += 1\n",
    "        \n",
    "        for e in g.get_edges(v):\n",
    "            if e not in visited:\n",
    "                explore(e)\n",
    "                \n",
    "        post[v] = clock\n",
    "        clock += 1\n",
    "\n",
    "    # The main part of the DFS function\n",
    "    order = []        # The DFS order\n",
    "    visited = dict()  # The visited dictionary\n",
    "    pre = dict()      # prevsit number dictionary\n",
    "    post = dict()     # postvisit number dictionary\n",
    "    clock = 0         # counter for numbers pre/post visits\n",
    "    \n",
    "    explore(v)\n",
    "    \n",
    "    for v in g.get_vertices():\n",
    "        if v not in visited:\n",
    "            explore(v)\n",
    "    return order, pre, post"
   ]
  },
  {
   "cell_type": "code",
   "execution_count": 79,
   "metadata": {},
   "outputs": [
    {
     "name": "stdout",
     "output_type": "stream",
     "text": [
      "['a', 'b', 'c', 'f', 'e', 'i', 'd', 'g', 'h']\n",
      "{'a': 0, 'b': 1, 'c': 2, 'f': 3, 'e': 4, 'i': 6, 'd': 12, 'g': 13, 'h': 14}\n",
      "{'e': 5, 'i': 7, 'f': 8, 'c': 9, 'b': 10, 'a': 11, 'h': 15, 'g': 16, 'd': 17}\n"
     ]
    }
   ],
   "source": [
    "# Example graph from exercise 3.1 graph \n",
    "g31 = Graph()  \n",
    "g31.add_edge('a','b')\n",
    "g31.add_edge('a','e')\n",
    "g31.add_edge('b','c')\n",
    "g31.add_edge('b','e')\n",
    "g31.add_edge('c','f')\n",
    "g31.add_edge('e','f')\n",
    "g31.add_edge('f','i')\n",
    "g31.add_edge('d', 'g')\n",
    "g31.add_edge('g', 'h')\n",
    "g31.add_edge('h', 'd')\n",
    "order, pre, post = dfs(g31, 'a')\n",
    "print(order)\n",
    "print(pre)\n",
    "print(post)"
   ]
  },
  {
   "cell_type": "markdown",
   "metadata": {},
   "source": [
    "## Directed Graphs\n",
    "\n",
    "Inherits the graph class and override the `add_edge` function so we just add an edge in one direction"
   ]
  },
  {
   "cell_type": "code",
   "execution_count": 80,
   "metadata": {},
   "outputs": [],
   "source": [
    "class DiGraph(Graph):\n",
    "\n",
    "    def __init__(self):\n",
    "        super().__init__()\n",
    "\n",
    "    def add_edge(self, v:T, u:T):\n",
    "        if v not in self.get_vertices():\n",
    "            self._vertices[v] = []\n",
    "        if u not in self._vertices:\n",
    "            self._vertices[u] = []\n",
    "\n",
    "        self._vertices[v].append(u)  # only append in one direction\n",
    "  "
   ]
  },
  {
   "cell_type": "markdown",
   "metadata": {},
   "source": [
    "A helper function to read a file of edges and return the DiGraph. "
   ]
  },
  {
   "cell_type": "code",
   "execution_count": 81,
   "metadata": {},
   "outputs": [],
   "source": [
    "def build_digraph(fn: str, sep=' ') -> DiGraph:\n",
    "    f = open(fn)\n",
    "    dg = DiGraph()\n",
    "    for line in f:\n",
    "        (u,v) = line.strip().split(sep)\n",
    "        dg.add_edge(u,v)\n",
    "    \n",
    "    return dg\n"
   ]
  },
  {
   "cell_type": "markdown",
   "metadata": {},
   "source": [
    "## DFS with Stack\n",
    "\n",
    "Replace recursion using a stack "
   ]
  },
  {
   "cell_type": "code",
   "execution_count": 82,
   "metadata": {},
   "outputs": [],
   "source": [
    "def dfs(g: Graph, v:T):\n",
    "    order = []\n",
    "    visited = { }\n",
    "    s = []         # use a list as a stack\n",
    "    s.append(v)    # initialize stack with starting vertex \n",
    "\n",
    "    while len(s) > 0:\n",
    "        curr = s.pop()\n",
    "        \n",
    "        if curr not in visited:\n",
    "            visited[curr] = True\n",
    "            order.append(curr)\n",
    "            for e in g.get_edges(curr):\n",
    "                if e not in visited:\n",
    "                    s.append(e)\n",
    "    return order\n",
    "\n"
   ]
  },
  {
   "cell_type": "markdown",
   "metadata": {},
   "source": [
    "## Breadth First Search (BFS)\n",
    "\n",
    "Breadth First Search use a queue. We use a double ended queue called `deque` pronounced _deck_.  Ntice this is the same as the Depth First Search where we just replace the stack with a queue."
   ]
  },
  {
   "cell_type": "code",
   "execution_count": 83,
   "metadata": {},
   "outputs": [],
   "source": [
    "from collections import deque\n",
    "\n",
    "def bfs(g: Graph, v:T) -> Tuple[List[T], Dict[T,T]]:\n",
    "    order = []       # The breadth first order\n",
    "    visited = { }    # te visited dictionary\n",
    "    q = deque()      # the queue\n",
    "    q.appendleft(v)  # initialize the queue with the starting vertex\n",
    "    prev = dict()    # the previous dictionary for reconstructing paths\n",
    "\n",
    "    while len(q) > 0:\n",
    "        curr = q.pop()          # removes item in queue\n",
    "        if curr not in visited:\n",
    "            visited[curr] = True\n",
    "            order.append(curr)\n",
    "            for e in g.get_edges(curr):\n",
    "                if e not in visited:\n",
    "                    q.appendleft(e)\n",
    "                    prev[e] = curr\n",
    "    return order, prev"
   ]
  },
  {
   "cell_type": "markdown",
   "metadata": {},
   "source": [
    "### Graphviz graph visualization module\n",
    "\n",
    "Sometimes it is helpful to be able to draw the graph using [Graphviz](https://graphviz.readthedocs.io/)\n",
    "\n",
    "Need to do the following\n",
    "\n",
    "```\n",
    "conda install graphviz\n",
    "conda install python-graphviz\n",
    "```"
   ]
  },
  {
   "cell_type": "code",
   "execution_count": 84,
   "metadata": {},
   "outputs": [],
   "source": [
    "import graphviz\n",
    "\n",
    "def g2gviz(g: Graph, fn: str) -> None:\n",
    "    \"\"\"\n",
    "    A function to return a graphviz graph from one of our Graph objects\n",
    "    \"\"\"\n",
    "    if isinstance(g,DiGraph):\n",
    "        print(\"generating graphviz Digraph\")\n",
    "        gv = graphviz.Digraph(format = 'png', filename = fn)\n",
    "    elif isinstance(g, Graph):\n",
    "        print(\"generating graphviz Graph\")\n",
    "        gv = graphviz.Graph(format = 'png', filename = fn)\n",
    "        \n",
    "    edges = g.edge_list()\n",
    "    nodups = []\n",
    "    \n",
    "    # remove the duplicate edges one of (u,v) or (v,u)\n",
    "    for (u,v) in edges:\n",
    "        if (v,u) not in nodups:\n",
    "            nodups.append((u,v))\n",
    "        \n",
    "    for (u,v) in nodups:\n",
    "        gv.edge(u,v)\n",
    "        \n",
    "    return gv"
   ]
  },
  {
   "cell_type": "code",
   "execution_count": 85,
   "metadata": {},
   "outputs": [
    {
     "name": "stdout",
     "output_type": "stream",
     "text": [
      "generating graphviz Graph\n"
     ]
    },
    {
     "data": {
      "text/plain": [
       "'states.dot.png'"
      ]
     },
     "execution_count": 85,
     "metadata": {},
     "output_type": "execute_result"
    }
   ],
   "source": [
    "gv = g2gviz(g,'states')\n",
    "gv.render(filename='states.dot')"
   ]
  },
  {
   "cell_type": "markdown",
   "metadata": {},
   "source": [
    "<img src = \"states.dot.png\" width=\"50%\" />"
   ]
  },
  {
   "cell_type": "code",
   "execution_count": 87,
   "metadata": {},
   "outputs": [
    {
     "name": "stdout",
     "output_type": "stream",
     "text": [
      "generating graphviz Graph\n"
     ]
    },
    {
     "data": {
      "image/svg+xml": [
       "<?xml version=\"1.0\" encoding=\"UTF-8\" standalone=\"no\"?>\r\n",
       "<!DOCTYPE svg PUBLIC \"-//W3C//DTD SVG 1.1//EN\"\r\n",
       " \"http://www.w3.org/Graphics/SVG/1.1/DTD/svg11.dtd\">\r\n",
       "<!-- Generated by graphviz version 2.38.0 (20140413.2041)\r\n",
       " -->\r\n",
       "<!-- Title: %3 Pages: 1 -->\r\n",
       "<svg width=\"225pt\" height=\"332pt\"\r\n",
       " viewBox=\"0.00 0.00 225.00 332.00\" xmlns=\"http://www.w3.org/2000/svg\" xmlns:xlink=\"http://www.w3.org/1999/xlink\">\r\n",
       "<g id=\"graph0\" class=\"graph\" transform=\"scale(1 1) rotate(0) translate(4 328)\">\r\n",
       "<title>%3</title>\r\n",
       "<polygon fill=\"white\" stroke=\"none\" points=\"-4,4 -4,-328 221,-328 221,4 -4,4\"/>\r\n",
       "<!-- a -->\r\n",
       "<g id=\"node1\" class=\"node\"><title>a</title>\r\n",
       "<ellipse fill=\"none\" stroke=\"black\" cx=\"68\" cy=\"-306\" rx=\"27\" ry=\"18\"/>\r\n",
       "<text text-anchor=\"middle\" x=\"68\" y=\"-302.3\" font-family=\"Times New Roman,serif\" font-size=\"14.00\">a</text>\r\n",
       "</g>\r\n",
       "<!-- b -->\r\n",
       "<g id=\"node2\" class=\"node\"><title>b</title>\r\n",
       "<ellipse fill=\"none\" stroke=\"black\" cx=\"82\" cy=\"-234\" rx=\"27\" ry=\"18\"/>\r\n",
       "<text text-anchor=\"middle\" x=\"82\" y=\"-230.3\" font-family=\"Times New Roman,serif\" font-size=\"14.00\">b</text>\r\n",
       "</g>\r\n",
       "<!-- a&#45;&#45;b -->\r\n",
       "<g id=\"edge1\" class=\"edge\"><title>a&#45;&#45;b</title>\r\n",
       "<path fill=\"none\" stroke=\"black\" d=\"M71.389,-288.055C73.5578,-277.211 76.3634,-263.183 78.5449,-252.275\"/>\r\n",
       "</g>\r\n",
       "<!-- e -->\r\n",
       "<g id=\"node3\" class=\"node\"><title>e</title>\r\n",
       "<ellipse fill=\"none\" stroke=\"black\" cx=\"27\" cy=\"-162\" rx=\"27\" ry=\"18\"/>\r\n",
       "<text text-anchor=\"middle\" x=\"27\" y=\"-158.3\" font-family=\"Times New Roman,serif\" font-size=\"14.00\">e</text>\r\n",
       "</g>\r\n",
       "<!-- a&#45;&#45;e -->\r\n",
       "<g id=\"edge2\" class=\"edge\"><title>a&#45;&#45;e</title>\r\n",
       "<path fill=\"none\" stroke=\"black\" d=\"M60.2675,-288.579C55.6369,-278.255 49.91,-264.556 46,-252 38.3429,-227.411 32.7339,-198.053 29.669,-179.968\"/>\r\n",
       "</g>\r\n",
       "<!-- b&#45;&#45;e -->\r\n",
       "<g id=\"edge4\" class=\"edge\"><title>b&#45;&#45;e</title>\r\n",
       "<path fill=\"none\" stroke=\"black\" d=\"M70.0658,-217.811C60.8405,-206.07 48.1304,-189.893 38.9109,-178.159\"/>\r\n",
       "</g>\r\n",
       "<!-- c -->\r\n",
       "<g id=\"node4\" class=\"node\"><title>c</title>\r\n",
       "<ellipse fill=\"none\" stroke=\"black\" cx=\"99\" cy=\"-162\" rx=\"27\" ry=\"18\"/>\r\n",
       "<text text-anchor=\"middle\" x=\"99\" y=\"-158.3\" font-family=\"Times New Roman,serif\" font-size=\"14.00\">c</text>\r\n",
       "</g>\r\n",
       "<!-- b&#45;&#45;c -->\r\n",
       "<g id=\"edge3\" class=\"edge\"><title>b&#45;&#45;c</title>\r\n",
       "<path fill=\"none\" stroke=\"black\" d=\"M86.1152,-216.055C88.7487,-205.211 92.1556,-191.183 94.8046,-180.275\"/>\r\n",
       "</g>\r\n",
       "<!-- f -->\r\n",
       "<g id=\"node5\" class=\"node\"><title>f</title>\r\n",
       "<ellipse fill=\"none\" stroke=\"black\" cx=\"63\" cy=\"-90\" rx=\"27\" ry=\"18\"/>\r\n",
       "<text text-anchor=\"middle\" x=\"63\" y=\"-86.3\" font-family=\"Times New Roman,serif\" font-size=\"14.00\">f</text>\r\n",
       "</g>\r\n",
       "<!-- e&#45;&#45;f -->\r\n",
       "<g id=\"edge5\" class=\"edge\"><title>e&#45;&#45;f</title>\r\n",
       "<path fill=\"none\" stroke=\"black\" d=\"M35.3496,-144.765C41.1655,-133.456 48.8897,-118.437 54.6957,-107.147\"/>\r\n",
       "</g>\r\n",
       "<!-- c&#45;&#45;f -->\r\n",
       "<g id=\"edge6\" class=\"edge\"><title>c&#45;&#45;f</title>\r\n",
       "<path fill=\"none\" stroke=\"black\" d=\"M90.6504,-144.765C84.8345,-133.456 77.1103,-118.437 71.3043,-107.147\"/>\r\n",
       "</g>\r\n",
       "<!-- i -->\r\n",
       "<g id=\"node6\" class=\"node\"><title>i</title>\r\n",
       "<ellipse fill=\"none\" stroke=\"black\" cx=\"63\" cy=\"-18\" rx=\"27\" ry=\"18\"/>\r\n",
       "<text text-anchor=\"middle\" x=\"63\" y=\"-14.3\" font-family=\"Times New Roman,serif\" font-size=\"14.00\">i</text>\r\n",
       "</g>\r\n",
       "<!-- f&#45;&#45;i -->\r\n",
       "<g id=\"edge7\" class=\"edge\"><title>f&#45;&#45;i</title>\r\n",
       "<path fill=\"none\" stroke=\"black\" d=\"M63,-71.6966C63,-60.8463 63,-46.9167 63,-36.1043\"/>\r\n",
       "</g>\r\n",
       "<!-- d -->\r\n",
       "<g id=\"node7\" class=\"node\"><title>d</title>\r\n",
       "<ellipse fill=\"none\" stroke=\"black\" cx=\"167\" cy=\"-306\" rx=\"27\" ry=\"18\"/>\r\n",
       "<text text-anchor=\"middle\" x=\"167\" y=\"-302.3\" font-family=\"Times New Roman,serif\" font-size=\"14.00\">d</text>\r\n",
       "</g>\r\n",
       "<!-- g -->\r\n",
       "<g id=\"node8\" class=\"node\"><title>g</title>\r\n",
       "<ellipse fill=\"none\" stroke=\"black\" cx=\"154\" cy=\"-234\" rx=\"27\" ry=\"18\"/>\r\n",
       "<text text-anchor=\"middle\" x=\"154\" y=\"-230.3\" font-family=\"Times New Roman,serif\" font-size=\"14.00\">g</text>\r\n",
       "</g>\r\n",
       "<!-- d&#45;&#45;g -->\r\n",
       "<g id=\"edge8\" class=\"edge\"><title>d&#45;&#45;g</title>\r\n",
       "<path fill=\"none\" stroke=\"black\" d=\"M163.853,-288.055C161.839,-277.211 159.234,-263.183 157.208,-252.275\"/>\r\n",
       "</g>\r\n",
       "<!-- h -->\r\n",
       "<g id=\"node9\" class=\"node\"><title>h</title>\r\n",
       "<ellipse fill=\"none\" stroke=\"black\" cx=\"190\" cy=\"-162\" rx=\"27\" ry=\"18\"/>\r\n",
       "<text text-anchor=\"middle\" x=\"190\" y=\"-158.3\" font-family=\"Times New Roman,serif\" font-size=\"14.00\">h</text>\r\n",
       "</g>\r\n",
       "<!-- d&#45;&#45;h -->\r\n",
       "<g id=\"edge9\" class=\"edge\"><title>d&#45;&#45;h</title>\r\n",
       "<path fill=\"none\" stroke=\"black\" d=\"M176.067,-288.866C181.278,-278.65 187.308,-264.964 190,-252 195.089,-227.491 193.737,-198.361 192.058,-180.273\"/>\r\n",
       "</g>\r\n",
       "<!-- g&#45;&#45;h -->\r\n",
       "<g id=\"edge10\" class=\"edge\"><title>g&#45;&#45;h</title>\r\n",
       "<path fill=\"none\" stroke=\"black\" d=\"M162.35,-216.765C168.165,-205.456 175.89,-190.437 181.696,-179.147\"/>\r\n",
       "</g>\r\n",
       "</g>\r\n",
       "</svg>\r\n"
      ],
      "text/plain": [
       "<graphviz.dot.Graph at 0x188e347e130>"
      ]
     },
     "execution_count": 87,
     "metadata": {},
     "output_type": "execute_result"
    }
   ],
   "source": [
    "gv = g2gviz(g31,'exercise31.png')\n",
    "gv"
   ]
  },
  {
   "cell_type": "markdown",
   "metadata": {},
   "source": [
    "## Example Digraph "
   ]
  },
  {
   "cell_type": "code",
   "execution_count": 88,
   "metadata": {},
   "outputs": [
    {
     "name": "stdout",
     "output_type": "stream",
     "text": [
      "generating graphviz Digraph\n"
     ]
    },
    {
     "data": {
      "text/plain": [
       "'digraph_example.dot.png'"
      ]
     },
     "execution_count": 88,
     "metadata": {},
     "output_type": "execute_result"
    }
   ],
   "source": [
    "dg = build_digraph('dg.txt')\n",
    "gv = g2gviz(dg,'states')\n",
    "gv.render(filename='digraph_example.dot')"
   ]
  },
  {
   "cell_type": "markdown",
   "metadata": {},
   "source": [
    "Here is the image we've been using in the class and lectures for the above digraph \n",
    "\n",
    "<img src = \"images/dirgraph_sedgewick.png\" width = \"25%\"/>"
   ]
  },
  {
   "cell_type": "markdown",
   "metadata": {},
   "source": [
    "And here is how graphviz renders it. Which do you like better? \n",
    "\n",
    "<img src = \"digraph_example.dot.png\" width = \"50%\"/>"
   ]
  },
  {
   "cell_type": "code",
   "execution_count": 16,
   "metadata": {},
   "outputs": [],
   "source": [
    "order, prev = bfs(dg,'7')"
   ]
  },
  {
   "cell_type": "markdown",
   "metadata": {},
   "source": [
    "## Another Example DiGraph"
   ]
  },
  {
   "cell_type": "code",
   "execution_count": 17,
   "metadata": {},
   "outputs": [
    {
     "name": "stdout",
     "output_type": "stream",
     "text": [
      "generating graphviz Digraph\n"
     ]
    },
    {
     "data": {
      "text/plain": [
       "'levitin4_2_9.dot.png'"
      ]
     },
     "execution_count": 17,
     "metadata": {},
     "output_type": "execute_result"
    }
   ],
   "source": [
    "dg = build_digraph('dg2.txt', sep=',')  # read from CSV file\n",
    "gv = g2gviz(dg,'levitin4_2_9')\n",
    "gv.render(filename='levitin4_2_9.dot')\n"
   ]
  },
  {
   "cell_type": "markdown",
   "metadata": {},
   "source": [
    "<img src = \"levitin4_2_9.dot.png\" width = \"25%\"/>"
   ]
  },
  {
   "cell_type": "markdown",
   "metadata": {},
   "source": [
    "## Reconstructing Paths from the `prev` dictionary"
   ]
  },
  {
   "cell_type": "code",
   "execution_count": 18,
   "metadata": {},
   "outputs": [],
   "source": [
    "def path(prev: Dict[T,T], x:T, y:T):\n",
    "    s = []\n",
    "    curr = y\n",
    "    while curr != x:\n",
    "        s.append(curr)\n",
    "        curr = prev[curr]\n",
    "    s.append(x)\n",
    "    return s[::-1]\n"
   ]
  },
  {
   "cell_type": "code",
   "execution_count": 19,
   "metadata": {},
   "outputs": [
    {
     "name": "stdout",
     "output_type": "stream",
     "text": [
      "['7', '9', '11', '12']\n"
     ]
    }
   ],
   "source": [
    "print(path(prev, '7', '12'))"
   ]
  },
  {
   "cell_type": "code",
   "execution_count": 20,
   "metadata": {},
   "outputs": [
    {
     "data": {
      "text/plain": [
       "{'9': '7',\n",
       " '6': '7',\n",
       " '10': '9',\n",
       " '11': '9',\n",
       " '0': '6',\n",
       " '8': '6',\n",
       " '4': '11',\n",
       " '12': '11',\n",
       " '1': '0',\n",
       " '5': '0',\n",
       " '2': '4',\n",
       " '3': '2'}"
      ]
     },
     "execution_count": 20,
     "metadata": {},
     "output_type": "execute_result"
    }
   ],
   "source": [
    "prev"
   ]
  },
  {
   "cell_type": "markdown",
   "metadata": {},
   "source": [
    "## Exercise - BFS\n",
    "Do a BFS if the following graph starting at Boston and showing the state of the Queue at each step.\n",
    "\n",
    "Also show the `prev` dictionary. Assume each city is a layover on a train ride. What path minimizes the number of layovers from Boston to Miami. Use abbreviations for city names like Bos, Det, LA"
   ]
  },
  {
   "cell_type": "markdown",
   "metadata": {},
   "source": [
    "![USA](images/USA-unweighted.png)"
   ]
  },
  {
   "cell_type": "code",
   "execution_count": 21,
   "metadata": {},
   "outputs": [],
   "source": [
    "order,prev = bfs(g,'Boston')"
   ]
  },
  {
   "cell_type": "code",
   "execution_count": 22,
   "metadata": {},
   "outputs": [
    {
     "data": {
      "text/plain": [
       "{'Detroit': 'Boston',\n",
       " 'New York': 'Detroit',\n",
       " 'Chicago': 'Detroit',\n",
       " 'Washington': 'Detroit',\n",
       " 'Philadelphia': 'Washington',\n",
       " 'Seattle': 'Chicago',\n",
       " 'Riverside': 'Chicago',\n",
       " 'Dallas': 'Chicago',\n",
       " 'Atlanta': 'Dallas',\n",
       " 'Miami': 'Atlanta',\n",
       " 'San Francisco': 'Riverside',\n",
       " 'Los Angeles': 'San Francisco',\n",
       " 'Phoenix': 'Los Angeles',\n",
       " 'Houston': 'Phoenix'}"
      ]
     },
     "execution_count": 22,
     "metadata": {},
     "output_type": "execute_result"
    }
   ],
   "source": [
    "prev"
   ]
  },
  {
   "cell_type": "markdown",
   "metadata": {},
   "source": [
    "## Shortest Path in an unweighted graph"
   ]
  },
  {
   "cell_type": "code",
   "execution_count": 23,
   "metadata": {},
   "outputs": [],
   "source": [
    "from collections import deque\n",
    "\n",
    "def shortest_paths(g: Graph, v:T) -> Tuple[Dict[T,T], Dict[T,T]]:\n",
    "    dist = dict()   # distance dictionary \n",
    "    q = deque()     # queue\n",
    "    q.appendleft(v) # initialize queue\n",
    "    prev = dict()   # previous dictionary\n",
    "    dist[v] = 0     \n",
    "\n",
    "    while len(q) > 0:\n",
    "        print(q)\n",
    "        curr = q.pop()        # removes right item in queue\n",
    "        for e in g.get_edges(curr):\n",
    "            if e not in dist:\n",
    "                q.appendleft(e)\n",
    "                dist[e] = dist[curr] + 1\n",
    "                prev[e] = curr\n",
    "    return dist, prev"
   ]
  },
  {
   "cell_type": "code",
   "execution_count": 24,
   "metadata": {},
   "outputs": [
    {
     "name": "stdout",
     "output_type": "stream",
     "text": [
      "deque(['Boston'])\n",
      "deque(['New York', 'Detroit'])\n",
      "deque(['Washington', 'Chicago', 'New York'])\n",
      "deque(['Philadelphia', 'Washington', 'Chicago'])\n",
      "deque(['Atlanta', 'Dallas', 'Riverside', 'Seattle', 'Philadelphia', 'Washington'])\n",
      "deque(['Miami', 'Atlanta', 'Dallas', 'Riverside', 'Seattle', 'Philadelphia'])\n",
      "deque(['Miami', 'Atlanta', 'Dallas', 'Riverside', 'Seattle'])\n",
      "deque(['San Francisco', 'Miami', 'Atlanta', 'Dallas', 'Riverside'])\n",
      "deque(['Phoenix', 'Los Angeles', 'San Francisco', 'Miami', 'Atlanta', 'Dallas'])\n",
      "deque(['Houston', 'Phoenix', 'Los Angeles', 'San Francisco', 'Miami', 'Atlanta'])\n",
      "deque(['Houston', 'Phoenix', 'Los Angeles', 'San Francisco', 'Miami'])\n",
      "deque(['Houston', 'Phoenix', 'Los Angeles', 'San Francisco'])\n",
      "deque(['Houston', 'Phoenix', 'Los Angeles'])\n",
      "deque(['Houston', 'Phoenix'])\n",
      "deque(['Houston'])\n"
     ]
    }
   ],
   "source": [
    "dist,prev = shortest_paths(g, 'Boston')"
   ]
  },
  {
   "cell_type": "markdown",
   "metadata": {},
   "source": [
    "# Weighted Graphs"
   ]
  },
  {
   "cell_type": "markdown",
   "metadata": {},
   "source": [
    "<img src=\"images/USA-weighted.png\" />"
   ]
  },
  {
   "cell_type": "markdown",
   "metadata": {},
   "source": [
    "The shortest path from Boston to Miami is not the path that visits the fewest vertices\n",
    "\n",
    "```\n",
    "Boston -> Detroit -> Washington -> Miami\n",
    "```\n",
    "\n",
    "but \n",
    "\n",
    "```\n",
    "Boston -> New York -> Philadelphia -> Washington -> Miami\n",
    "```"
   ]
  },
  {
   "cell_type": "markdown",
   "metadata": {},
   "source": [
    "## Representing Weighted Graphs\n",
    "\n",
    "An undirected weighted graph"
   ]
  },
  {
   "cell_type": "code",
   "execution_count": 25,
   "metadata": {},
   "outputs": [],
   "source": [
    "class WeightedGraph(Graph):\n",
    "\n",
    "    def __init__(self):\n",
    "        super().__init__()\n",
    "\n",
    "    def add_edge(self, v:T, u:T, weight: int):\n",
    "        if v not in self.get_vertices():\n",
    "            self._vertices[v] = []\n",
    "        if u not in self._vertices:\n",
    "            self._vertices[u] = []\n",
    "\n",
    "        self._vertices[v].append((u, weight))\n",
    "        self._vertices[u].append((v, weight))\n"
   ]
  },
  {
   "cell_type": "code",
   "execution_count": 26,
   "metadata": {},
   "outputs": [],
   "source": [
    "from typing import  TypeVar, Dict\n",
    "from math import inf\n",
    "\n",
    "T = TypeVar('T')\n",
    "\n",
    "\n",
    "def sp1(g: WeightedGraph, s: T):\n",
    "\n",
    "    def smallest(d: Dict[T,float], seen: set) -> T:\n",
    "        \"\"\"\n",
    "        Find the snallest vertex v in d that is not in seen\n",
    "        \"\"\"\n",
    "        smallest_v = None    \n",
    "        smallest_dist = inf\n",
    "\n",
    "        for k in d:\n",
    "            if k in seen:\n",
    "                continue\n",
    "\n",
    "            if d[k] < smallest_dist:\n",
    "                smallest_dist = d[k]\n",
    "                smallest_v = k\n",
    "\n",
    "        return smallest_v\n",
    "\n",
    "    # main part of sp\n",
    "    dist = {v:inf for v in g.get_vertices()}\n",
    "    dist[s] = 0\n",
    "    seen = set()\n",
    "    prev = dict()\n",
    " \n",
    "    while len(seen) < len(g.get_vertices()):   # O(|V|)\n",
    "        v = smallest(dist, seen)               # O(|V|)\n",
    "        seen.add(v)\n",
    "\n",
    "        for (e,w) in g.get_edges(v):           # O(|E|)\n",
    "            if dist[e] > dist[v] + w:\n",
    "                dist[e] = dist[v] + w\n",
    "                prev[e] = v\n",
    "\n",
    "    return dist, prev\n"
   ]
  },
  {
   "cell_type": "markdown",
   "metadata": {},
   "source": [
    "## Shortest Path in a Weighted Graph using a Min Heap"
   ]
  },
  {
   "cell_type": "markdown",
   "metadata": {},
   "source": [
    "#### Sometimes min/max heaps are called _priority queues_"
   ]
  },
  {
   "cell_type": "code",
   "execution_count": 27,
   "metadata": {},
   "outputs": [],
   "source": [
    "# I had to copy the heap class in to s separate Python file Heap.py\n",
    "# so I could import it\n",
    "from Heap import heap"
   ]
  },
  {
   "cell_type": "code",
   "execution_count": 28,
   "metadata": {},
   "outputs": [],
   "source": [
    "def sp(g: WeightedGraph, s: T):\n",
    "    dist = { v: inf for v in g.get_vertices() }\n",
    "    dist[s] = 0\n",
    "    prev = dict()\n",
    "\n",
    "    pq = heap([(dist[v],v) for v in dist])\n",
    "\n",
    "    while len(pq._h) > 0:              # O(|V|)\n",
    "        (d,v) = pq.delete_root()       # O(log(|V|))\n",
    " \n",
    "        for (e,w) in g.get_edges(v):   # O(|E|)\n",
    "            if dist[e] > dist[v] + w:\n",
    "                dist[e] = dist[v] + w\n",
    "                prev[e] = v\n",
    "                pq.decrease_key(e, dist[e])\n",
    " \n",
    "    return dist, prev\n",
    "\n",
    "# Disjkstra's O(|V|log(|V|) + O(|V||E|))\n"
   ]
  },
  {
   "cell_type": "markdown",
   "metadata": {},
   "source": [
    "## Example: Shortest Path Weighted Graph US map\n",
    "Here is an example weighted graph of our US map."
   ]
  },
  {
   "cell_type": "code",
   "execution_count": 29,
   "metadata": {},
   "outputs": [],
   "source": [
    "def build_weighted_graph():\n",
    "    cities = WeightedGraph()\n",
    "    cities.add_edge(\"Seattle\", \"Chicago\", 1737)\n",
    "    cities.add_edge(\"Seattle\", \"San Francisco\", 678)\n",
    "    cities.add_edge(\"San Francisco\", \"Riverside\", 386)\n",
    "    cities.add_edge(\"San Francisco\", \"Los Angeles\", 348)\n",
    "    cities.add_edge(\"Los Angeles\", \"Riverside\", 50)\n",
    "    cities.add_edge(\"Los Angeles\", \"Phoenix\", 357)\n",
    "    cities.add_edge(\"Riverside\", \"Phoenix\", 307)\n",
    "    cities.add_edge(\"Riverside\", \"Chicago\", 1704)\n",
    "    cities.add_edge(\"Phoenix\", \"Dallas\", 887)\n",
    "    cities.add_edge(\"Phoenix\", \"Houston\", 1015)\n",
    "    cities.add_edge(\"Dallas\", \"Chicago\", 805)\n",
    "    cities.add_edge(\"Dallas\", \"Atlanta\", 721)\n",
    "    cities.add_edge(\"Dallas\", \"Houston\", 225)\n",
    "    cities.add_edge(\"Houston\", \"Atlanta\", 702)\n",
    "    cities.add_edge(\"Houston\", \"Miami\", 968)\n",
    "    cities.add_edge(\"Atlanta\", \"Chicago\", 588)\n",
    "    cities.add_edge(\"Atlanta\", \"Washington\", 543)\n",
    "    cities.add_edge(\"Atlanta\", \"Miami\", 604)\n",
    "    cities.add_edge(\"Miami\", \"Washington\", 923)\n",
    "    cities.add_edge(\"Chicago\", \"Detroit\", 238)\n",
    "    cities.add_edge(\"Detroit\", \"Boston\", 613)\n",
    "    cities.add_edge(\"Detroit\", \"Washington\", 396)\n",
    "    cities.add_edge(\"Detroit\", \"New York\", 482)\n",
    "    cities.add_edge(\"Boston\", \"New York\", 190)\n",
    "    cities.add_edge(\"New York\", \"Philadelphia\", 81)\n",
    "    cities.add_edge(\"Philadelphia\", \"Washington\", 123)\n",
    "    #cities.add_edge(\"Boston\", \"Montreal\", 308)\n",
    "\n",
    "    return cities\n"
   ]
  },
  {
   "cell_type": "code",
   "execution_count": 30,
   "metadata": {},
   "outputs": [],
   "source": [
    "cities = build_weighted_graph()"
   ]
  },
  {
   "cell_type": "code",
   "execution_count": 31,
   "metadata": {},
   "outputs": [],
   "source": [
    "dist,prev = sp(cities,'Boston')"
   ]
  },
  {
   "cell_type": "code",
   "execution_count": 32,
   "metadata": {},
   "outputs": [
    {
     "data": {
      "text/plain": [
       "['Boston', 'Detroit', 'Chicago', 'Riverside', 'Los Angeles']"
      ]
     },
     "execution_count": 32,
     "metadata": {},
     "output_type": "execute_result"
    }
   ],
   "source": [
    "path(prev,'Boston', 'Los Angeles')"
   ]
  },
  {
   "cell_type": "code",
   "execution_count": 33,
   "metadata": {},
   "outputs": [
    {
     "data": {
      "text/plain": [
       "['Boston', 'New York', 'Philadelphia', 'Washington', 'Miami']"
      ]
     },
     "execution_count": 33,
     "metadata": {},
     "output_type": "execute_result"
    }
   ],
   "source": [
    "path(prev,'Boston', 'Miami')"
   ]
  },
  {
   "cell_type": "code",
   "execution_count": 34,
   "metadata": {},
   "outputs": [
    {
     "data": {
      "text/plain": [
       "['Boston', 'Detroit', 'Chicago', 'Dallas', 'Phoenix']"
      ]
     },
     "execution_count": 34,
     "metadata": {},
     "output_type": "execute_result"
    }
   ],
   "source": [
    "path(prev,'Boston', 'Phoenix')"
   ]
  },
  {
   "cell_type": "markdown",
   "metadata": {},
   "source": [
    "## Minimum Spanning Tree\n",
    "### Prim's Algorithm"
   ]
  },
  {
   "cell_type": "code",
   "execution_count": 60,
   "metadata": {},
   "outputs": [],
   "source": [
    "from Heap import heap\n",
    "from typing import Tuple, Dict, TypeVar, List\n",
    "T = TypeVar(\"T\")\n",
    "Prev = Dict[T, Tuple[T, float]]\n",
    "\n",
    "def prim(g: WeightedGraph, start: T) -> Prev:\n",
    "    prev = dict()\n",
    "    visited = dict() # keep us from creating cycles\n",
    "    h = heap()  # heap of edges\n",
    "\n",
    "    # for each vertex connected to v that is not visited\n",
    "    # add the edge to the heap.\n",
    "    def visit(v : T):\n",
    "        visited[v] = True\n",
    "        for (z, w) in g.get_edges(v):\n",
    "            if z not in visited:\n",
    "                h.insert((v, z), w)   \n",
    "\n",
    "    visit(start)\n",
    "    while len(h._h) > 0:\n",
    "        (c, (v,z)) = h.delete_root() # delete the lowest cost edge\n",
    "        if z in visited:\n",
    "            continue\n",
    "\n",
    "        visit(z)\n",
    "        prev[z] = (v, c)\n",
    "    return prev"
   ]
  },
  {
   "cell_type": "markdown",
   "metadata": {},
   "source": [
    "### Example Graph\n",
    "<img src = \"example_for_prims.jpg\" width=\"35%\" />"
   ]
  },
  {
   "cell_type": "code",
   "execution_count": 61,
   "metadata": {},
   "outputs": [],
   "source": [
    "g = WeightedGraph()\n",
    "g.add_edge('a','b', 4)\n",
    "g.add_edge('b','d', 5)\n",
    "g.add_edge('c','d', 1)\n",
    "g.add_edge('a','c', 2)\n",
    "g.add_edge('e','f', 2)\n",
    "g.add_edge('d','f', 6)\n",
    "g.add_edge('c','f', 3)\n",
    "g.add_edge('c','e', 6)\n",
    "g.add_edge('a','e', 3)"
   ]
  },
  {
   "cell_type": "code",
   "execution_count": 62,
   "metadata": {},
   "outputs": [
    {
     "name": "stdout",
     "output_type": "stream",
     "text": [
      "a --> [('b', 4), ('c', 2), ('e', 3)]\n",
      "b --> [('a', 4), ('d', 5)]\n",
      "d --> [('b', 5), ('c', 1), ('f', 6)]\n",
      "c --> [('d', 1), ('a', 2), ('f', 3), ('e', 6)]\n",
      "e --> [('f', 2), ('c', 6), ('a', 3)]\n",
      "f --> [('e', 2), ('d', 6), ('c', 3)]\n",
      "\n"
     ]
    }
   ],
   "source": [
    "print(g)"
   ]
  },
  {
   "cell_type": "code",
   "execution_count": 63,
   "metadata": {},
   "outputs": [
    {
     "data": {
      "text/plain": [
       "{'d': ('c', 1), 'a': ('c', 2), 'e': ('a', 3), 'f': ('e', 2), 'b': ('a', 4)}"
      ]
     },
     "execution_count": 63,
     "metadata": {},
     "output_type": "execute_result"
    }
   ],
   "source": [
    "prim(g,'c')"
   ]
  },
  {
   "cell_type": "code",
   "execution_count": null,
   "metadata": {},
   "outputs": [],
   "source": []
  }
 ],
 "metadata": {
  "kernelspec": {
   "display_name": "Python 3",
   "language": "python",
   "name": "python3"
  },
  "language_info": {
   "codemirror_mode": {
    "name": "ipython",
    "version": 3
   },
   "file_extension": ".py",
   "mimetype": "text/x-python",
   "name": "python",
   "nbconvert_exporter": "python",
   "pygments_lexer": "ipython3",
   "version": "3.7.6"
  }
 },
 "nbformat": 4,
 "nbformat_minor": 4
}
