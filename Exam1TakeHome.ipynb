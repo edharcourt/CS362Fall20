{
 "cells": [
  {
   "cell_type": "markdown",
   "metadata": {},
   "source": [
    "# CS362 Algorithms Take Home Exam 1\n",
    "## Fall 2020\n",
    "### Due Monday October 12th by 5PM\n",
    "\n",
    "**Name**: <u>**_your-name-goes-here_**</u>\n",
    "\n",
    "+ There are a total of 110 points on the exam with a possibility for another 10 points extra credit (last question).\n",
    "\n",
    "+ rename this file **`your-slu-username_Exam1TakeHome.ipynb`**\n",
    "\n",
    "+ Use notebook cells judicously and put images and answers to different parts in ther own cell.\n",
    "\n",
    "+ I will be deducting points for missing images, broken links, or sloppiness. If you need to use Latex or Python to express an answer neatly you should do so.\n",
    "\n",
    "+ You may not communicate with anyone about this exam. You may not consult the internet except to look up [Python documentation](https://docs.python.org/3/whatsnew/3.8.html) or [matplotlib documentation](https://matplotlib.org/contents.html). You may consult your textbook, class notes, and videos. You may, of course, ask me clarifying questions. But I will not give any other assistance.\n",
    "\n",
    "+ During the week of October 12th I will have you make a 15 minute appointment for a one-on-one oral exam component (5 points). For those in far away time zones I will set aside some times in late evening (EST) and early morning. \n",
    "\n",
    "+ Make sure to push this notebook to your *private github course repo* by the date and time due. <span style=\"background-color: #FFFF00\">By pushing this notebook to your private github repo you attest that you have neither given nor received assistance on this take home exam and that all work is entirely your own.</span>\n",
    "\n",
    "+ If you turn in any images, make sure to crop large areas of empty space. Also, set the scale to 75-80 %, not 50%."
   ]
  },
  {
   "cell_type": "markdown",
   "metadata": {},
   "source": [
    "### Problem 1 - Closest Pair of Points\n",
    "\n",
    "In the class video of September 25th we described the problem of finding the closest pair of points on a, (X,Y) coordinate plane.  We outlined two solutions, a brute force solution and a divide-and-conquer solution."
   ]
  },
  {
   "cell_type": "markdown",
   "metadata": {},
   "source": [
    "#### Part 1a - Brute Force Implementation (5 points)"
   ]
  },
  {
   "cell_type": "markdown",
   "metadata": {},
   "source": [
    "Write a brute force algorithm that finds and returns the closest pair of points. Complete the function `brute` below that takes a list of points and returns the two closest points. If there is more than one closest pair just return one of the pairs."
   ]
  },
  {
   "cell_type": "code",
   "execution_count": 28,
   "metadata": {},
   "outputs": [
    {
     "name": "stdout",
     "output_type": "stream",
     "text": [
      "None\n"
     ]
    }
   ],
   "source": [
    "from random import random as rand, seed\n",
    "from typing import List, Tuple\n",
    "Point = Tuple[float,float]  # a type alias for a point\n",
    "\n",
    "def brute(points: List[Point]) -> Tuple[Point,Point]:\n",
    "    pass # fill in function body\n",
    "\n",
    "# test brute by generating some random points \n",
    "# between 0 and 100 to three decimal places\n",
    "seed(42)\n",
    "pts = [(round(rand()*1000,3),round(rand()*1000,3)) for i in range(10)]\n",
    "print(brute(pts))"
   ]
  },
  {
   "cell_type": "markdown",
   "metadata": {},
   "source": [
    "#### Part 1b - Brute Force Runtime Analysis (5 points)"
   ]
  },
  {
   "cell_type": "markdown",
   "metadata": {},
   "source": [
    "Do a complete and detailed runtime analysis of the function `brute` and prove a Big-$\\Theta$ bound. That is, derive a function $f(n)$ and prove that it is $\\Theta(g(n))$. "
   ]
  },
  {
   "cell_type": "markdown",
   "metadata": {},
   "source": [
    "#### Part 1c - Brute Force Benchmarking (5 points)"
   ]
  },
  {
   "cell_type": "markdown",
   "metadata": {},
   "source": [
    "Benchmark your solution using the `@timeit` decorator (copied below) collecting runtimes for lists of various lengths. For example if $n$ is the length of the list of points then for $n=1000,2000,\\ldots 100000$. You may need to increase or decrease the size of $n$ depending on how fast your computer is. Plot the result in matplotlib. "
   ]
  },
  {
   "cell_type": "code",
   "execution_count": 29,
   "metadata": {},
   "outputs": [],
   "source": [
    "import time\n",
    "def timeit(func):\n",
    "    \"\"\"\n",
    "    A decorator that times the function func with the arguments that\n",
    "    are passed to it\n",
    "    :param func: Function being timed\n",
    "    :return: a pair with func's result and the time it took to run. \n",
    "    \"\"\"\n",
    "    def clocked(*args, **kwargs):\n",
    "        t0 = time.perf_counter()\n",
    "        result = func(*args, **kwargs)\n",
    "        elapsed = time.perf_counter() - t0\n",
    "        name = func.__name__\n",
    "        return result, elapsed\n",
    "    return clocked"
   ]
  },
  {
   "cell_type": "markdown",
   "metadata": {},
   "source": [
    "#### Part 1d  - Brute Force Comparison against Theta (5 points)"
   ]
  },
  {
   "cell_type": "markdown",
   "metadata": {},
   "source": [
    "Replot your graph from part 1c but add a second and third subplot and plot them along with the plots of the functions $f(n)$ and $g(n)$ from part 1b. "
   ]
  },
  {
   "cell_type": "markdown",
   "metadata": {},
   "source": [
    "#### Part 1e - Divide and Conquer Implementation (20 points)"
   ]
  },
  {
   "cell_type": "markdown",
   "metadata": {},
   "source": [
    "This problem is decribed in detail in the class Video from September 25th and as question 2.32 in Chapter 2 of the textbook.  \n",
    "\n",
    "Implement the Divide and Conquer *Closest Pair of Points* algorithm Complete the function `closest` below that takes a list of points and returns the two closest points.  "
   ]
  },
  {
   "cell_type": "code",
   "execution_count": 30,
   "metadata": {},
   "outputs": [],
   "source": [
    "from typing import List, Tuple\n",
    "Point = Tuple[float,float]  # a type alias for a point\n",
    "\n",
    "\n",
    "def closest(points: List[Point]) -> Tuple[Point,Point]:\n",
    "    pass  # fill in function"
   ]
  },
  {
   "cell_type": "markdown",
   "metadata": {},
   "source": [
    "**Hint:** In `closest` you need to be able to sort a list of points by their $x$-coordinate (in the divide-and-conquer stage). After the recursive calls you will then need to examine the list of points in the region around the center strip, but ordered by their $y$-coordinate. To do this the builtin `sorted` function takes an optional named parameter called a *key function* that tells `sorted` what to sort by. For example ..."
   ]
  },
  {
   "cell_type": "code",
   "execution_count": 31,
   "metadata": {},
   "outputs": [
    {
     "name": "stdout",
     "output_type": "stream",
     "text": [
      "[(2.3, 9.33), (3.4, 1.1), (7.1, 4.1)]\n",
      "[(3.4, 1.1), (7.1, 4.1), (2.3, 9.33)]\n"
     ]
    }
   ],
   "source": [
    "# return the x-coordinate of a point\n",
    "def getX(point: Tuple[float,float]) -> float:\n",
    "    return point[0]\n",
    "\n",
    "# return the y-coordinate of a point\n",
    "def getY(point: Tuple[float,float]) -> float:\n",
    "    return point[1]\n",
    "\n",
    "# sample points\n",
    "pts = [(7.1, 4.1), (2.3, 9.33), (3.4, 1.1)]\n",
    "print(sorted(pts, key=getX))  # ordered by X-coordinate\n",
    "print(sorted(pts, key=getY))  # ordered by Y-coordinate"
   ]
  },
  {
   "cell_type": "markdown",
   "metadata": {},
   "source": [
    "For those of you who took CS364, Programming Languages, recall that Python lets you use a lambda notation to build little functions on-the-fly without having to define separate functions like `getX` and `getY` (Java allows this too)."
   ]
  },
  {
   "cell_type": "code",
   "execution_count": 32,
   "metadata": {},
   "outputs": [
    {
     "name": "stdout",
     "output_type": "stream",
     "text": [
      "[(2.3, 9.33), (3.4, 1.1), (7.1, 4.1)]\n",
      "[(3.4, 1.1), (7.1, 4.1), (2.3, 9.33)]\n"
     ]
    }
   ],
   "source": [
    "print(sorted(pts, key=lambda pt: pt[0]))  # ordered by X-coordinate\n",
    "print(sorted(pts, key=lambda pt: pt[1]))  # ordered by Y-coordinate"
   ]
  },
  {
   "cell_type": "markdown",
   "metadata": {},
   "source": [
    "#### Part 1f - Divide and Conquer Runtime Analysis (10 points)"
   ]
  },
  {
   "cell_type": "markdown",
   "metadata": {},
   "source": [
    "Develop a recurrenct function for your `closest` function in part 1e. Solve this recurrence making sure to show all work. Prove a $\\Theta$ bound for your solution."
   ]
  },
  {
   "cell_type": "markdown",
   "metadata": {},
   "source": [
    "#### Part 1g - Divide and Conquer Benchmarking  (10 points)"
   ]
  },
  {
   "cell_type": "markdown",
   "metadata": {},
   "source": [
    "Benchmark your `closest` solution using the `@timeit` decorator collecting runtimes for lists of various lengths. For example if $n$ is the length of the list of points then for $n=1000,2000,...100000$. You may need to increase or decrease the size of $n$ depending on how fast your computer is. Plot the result in matplotlib. "
   ]
  },
  {
   "cell_type": "markdown",
   "metadata": {},
   "source": [
    "#### Part 1h (5 points)"
   ]
  },
  {
   "cell_type": "markdown",
   "metadata": {},
   "source": [
    "Replot your graph from part 1g but add a second and third subplot and plot them along the functions $f(n)$ (the solution to the recurrence from Part 1f) and $g(n)$ (the $\\Theta$ bound from part 1f)."
   ]
  },
  {
   "cell_type": "markdown",
   "metadata": {},
   "source": [
    "### Problem 2 - RSA Cryptography"
   ]
  },
  {
   "cell_type": "markdown",
   "metadata": {},
   "source": [
    "#### Part 2a (10 points)"
   ]
  },
  {
   "cell_type": "markdown",
   "metadata": {},
   "source": [
    "Create your own personal public and private RSA keys. Post your public and private keys in this question. Post your public key in the Sakai Forums for this class under the topic titled *RSA Public Keys for take home exam 1*.  Make sure that the primes used to derive your keys are at least **16 bits each**. Make sure to show all work on how you derived your keys and justify the validity of the public exponent $e$.  You do not have to do the computations by hand. You can run the algorithms we developed in class and exaplin.  Don't use any of the example keys from class. Generate new keys from scratch using primes generated with the `probablyPrime` function."
   ]
  },
  {
   "cell_type": "markdown",
   "metadata": {},
   "source": [
    "#### Part 2b (10 points)"
   ]
  },
  {
   "cell_type": "markdown",
   "metadata": {},
   "source": [
    "When you have posted your public key in the forum I will email you an encrypted message with a body that is a list of integers. You will then decrpyt the list of integers using your private key and email me the original message with the subject heading **Exam 1 2b**.\n",
    "\n",
    "I will encrypt the message character by character so that each character gets encrypted to its unique Unicode value.  The Python `ord` function returns the Unicode integer (the *code point*) for a single character. The function `chr`, when given a Unicode code point, returns a single character string."
   ]
  },
  {
   "cell_type": "code",
   "execution_count": 33,
   "metadata": {},
   "outputs": [
    {
     "data": {
      "text/plain": [
       "True"
      ]
     },
     "execution_count": 33,
     "metadata": {},
     "output_type": "execute_result"
    }
   ],
   "source": [
    "ord('z') == 122 and chr(122) == 'z'"
   ]
  },
  {
   "cell_type": "markdown",
   "metadata": {},
   "source": [
    "#### Part 2c (10 points)"
   ]
  },
  {
   "cell_type": "markdown",
   "metadata": {},
   "source": [
    "My public key is **`(13, 11146785061)`**. Email me a *digitally signed encrypted* message (not too long) by copying and pasting a Python list of integers in a cell below where each character has been encrypted separately. Use the email subject heading *Exam 1 2c*."
   ]
  },
  {
   "cell_type": "markdown",
   "metadata": {},
   "source": [
    "#### Part 2d (10 points)"
   ]
  },
  {
   "cell_type": "markdown",
   "metadata": {},
   "source": [
    "Below is a message I encrypted with my public key. Decrypt it by hacking my private key."
   ]
  },
  {
   "cell_type": "code",
   "execution_count": 34,
   "metadata": {},
   "outputs": [
    {
     "data": {
      "text/plain": [
       "[5362098191,\n",
       " 4024415505,\n",
       " 1658617105,\n",
       " 5362098191,\n",
       " 9426848216,\n",
       " 10664745222,\n",
       " 7060020867,\n",
       " 4396118868]"
      ]
     },
     "execution_count": 34,
     "metadata": {},
     "output_type": "execute_result"
    }
   ],
   "source": [
    "[5362098191, 4024415505, 1658617105, 5362098191, 9426848216, 10664745222, 7060020867, 4396118868]"
   ]
  },
  {
   "cell_type": "markdown",
   "metadata": {},
   "source": [
    "### Problem 3 (10 points Extra Credit)"
   ]
  },
  {
   "cell_type": "markdown",
   "metadata": {},
   "source": [
    "You can only receive extra credit after you have provided answers for all of the questions above."
   ]
  },
  {
   "cell_type": "markdown",
   "metadata": {},
   "source": [
    "Solve and prove a $\\Theta$ bound for the median selection algorithm recurrence equation below. Solve it like we did in class using two columns and coming up with a summation of the work. To get started review video 64 (7 minutes). Your answer must be *very neat* and complete.  The algebra gets nasty. Check your solution by verifying it against what the **Master Theorem** (page 49).\n",
    "\n",
    "$$\n",
    "T(n) = \\frac{1}{2}T(\\frac{3n}{4}) + \\frac{1}{2}T(n-1) + n \n",
    "$$"
   ]
  }
 ],
 "metadata": {
  "kernelspec": {
   "display_name": "Python 3",
   "language": "python",
   "name": "python3"
  },
  "language_info": {
   "codemirror_mode": {
    "name": "ipython",
    "version": 3
   },
   "file_extension": ".py",
   "mimetype": "text/x-python",
   "name": "python",
   "nbconvert_exporter": "python",
   "pygments_lexer": "ipython3",
   "version": "3.8.3"
  }
 },
 "nbformat": 4,
 "nbformat_minor": 4
}
