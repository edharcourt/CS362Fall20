{
 "cells": [
  {
   "cell_type": "markdown",
   "metadata": {},
   "source": [
    "# Homework 1 Solution"
   ]
  },
  {
   "cell_type": "markdown",
   "metadata": {},
   "source": [
    "## Question 1"
   ]
  },
  {
   "cell_type": "markdown",
   "metadata": {},
   "source": [
    "```\n",
    "hippopotomonstrosesquipedaliaphobia\n",
    "monstro                               i = 0\n",
    " monstro                              i = 1\n",
    "  monstro                             i = 2\n",
    "   monstro                            i = 3\n",
    "    monstro                           i = 4\n",
    "     monstro                          i = 5\n",
    "      monstro                         i = 6\n",
    "       monstro                        i = 7\n",
    "        monstro                       i = 8\n",
    "         monstro                      i = 9\n",
    "```"
   ]
  },
  {
   "cell_type": "code",
   "execution_count": 9,
   "metadata": {},
   "outputs": [],
   "source": [
    "def whereis(s: str, t: str) -> str:\n",
    "    n,m = len(s), len(t)\n",
    "\n",
    "    for i in range(n - m + 1):\n",
    "        match = 0\n",
    "        for j in range(m):\n",
    "            if s[i+j] == t[j]:\n",
    "                match += 1\n",
    "            else:\n",
    "                break\n",
    "        if match == m:\n",
    "            return i\n",
    "        \n",
    "    return -1"
   ]
  },
  {
   "cell_type": "code",
   "execution_count": 10,
   "metadata": {},
   "outputs": [
    {
     "name": "stdout",
     "output_type": "stream",
     "text": [
      "True\n",
      "True\n",
      "True\n"
     ]
    }
   ],
   "source": [
    "s = 'hippopotomonstrosesquipedaliaphobia'\n",
    "print(whereis(s, 'phobia') == 29)\n",
    "print(whereis(s, 'po') == 3)\n",
    "print(whereis(s, 'algorithms') == -1)"
   ]
  },
  {
   "cell_type": "markdown",
   "metadata": {},
   "source": [
    "## Question 2"
   ]
  },
  {
   "cell_type": "markdown",
   "metadata": {},
   "source": [
    "## Part 1\n",
    "Consider the Java code snippet below. Derive an exact formula, as a function of $n$, that indicates how many asterisks are printed.. This one is nasty. You will need to use the summation formulas in Sakai resources.\n",
    "\n",
    "```Java\n",
    "for (int i = 1; i < n; i++)       \n",
    "    for (int j = i+1; j <= n; j++)   \n",
    "        for (int k = 1; k <= j; k++)\n",
    "            print(‘*’)               \n",
    "```\n",
    "\n",
    "## Part 2 - Big Theta Analysis\n",
    "Do a complete Big $\\Theta$ analysis of this code."
   ]
  },
  {
   "cell_type": "code",
   "execution_count": null,
   "metadata": {},
   "outputs": [],
   "source": [
    "n = 99\n",
    "r = 0\n",
    "for i in range(1,n):\n",
    "    for j in range(i+1,n+1):\n",
    "        for k in range(1,j+1):\n",
    "            r += 1\n",
    "print(r)"
   ]
  },
  {
   "cell_type": "code",
   "execution_count": null,
   "metadata": {},
   "outputs": [],
   "source": [
    "def f(n): return (n**3 - n)//3"
   ]
  }
 ],
 "metadata": {
  "kernelspec": {
   "display_name": "Python 3",
   "language": "python",
   "name": "python3"
  },
  "language_info": {
   "codemirror_mode": {
    "name": "ipython",
    "version": 3
   },
   "file_extension": ".py",
   "mimetype": "text/x-python",
   "name": "python",
   "nbconvert_exporter": "python",
   "pygments_lexer": "ipython3",
   "version": "3.8.4"
  }
 },
 "nbformat": 4,
 "nbformat_minor": 4
}
