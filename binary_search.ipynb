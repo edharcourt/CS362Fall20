{
 "cells": [
  {
   "cell_type": "markdown",
   "metadata": {},
   "source": [
    "# Divide And Conquer"
   ]
  },
  {
   "cell_type": "markdown",
   "metadata": {},
   "source": [
    "## Binary Search"
   ]
  },
  {
   "cell_type": "code",
   "execution_count": 4,
   "metadata": {},
   "outputs": [],
   "source": [
    "from typing import List, TypeVar\n",
    "T = TypeVar('T')  # T must < and == defined __lt__  __eq__  (dunder)\n",
    "\n",
    "def binary_search(l: List[T], key: T) -> int:\n",
    "    \"\"\"\n",
    "    :param l:  l[i] <= l[j] for all i,j in 0..len(l) i <= j\n",
    "    :param key:\n",
    "    :return: -1 if not found, otherwise index of where item found\n",
    "    \"\"\"\n",
    "\n",
    "    def binsearch(low: int, high: int ):\n",
    "        if low > high:\n",
    "            return -1\n",
    "\n",
    "        # mid = (low + high) // 2           # Why is this bad?\n",
    "        mid = low + (high - low)//2         # Why is this better? \n",
    "\n",
    "        if l[mid] == key:                   # indexing and == constant time\n",
    "            return mid\n",
    "        elif key < l[mid]:                   # < is constant time\n",
    "            return binsearch(low, mid - 1)\n",
    "        else:\n",
    "            return binsearch(mid + 1, high)\n",
    "\n",
    "    return binsearch(0,len(l) - 1)"
   ]
  },
  {
   "cell_type": "code",
   "execution_count": null,
   "metadata": {},
   "outputs": [],
   "source": []
  }
 ],
 "metadata": {
  "kernelspec": {
   "display_name": "Python 3",
   "language": "python",
   "name": "python3"
  },
  "language_info": {
   "codemirror_mode": {
    "name": "ipython",
    "version": 3
   },
   "file_extension": ".py",
   "mimetype": "text/x-python",
   "name": "python",
   "nbconvert_exporter": "python",
   "pygments_lexer": "ipython3",
   "version": "3.7.6"
  }
 },
 "nbformat": 4,
 "nbformat_minor": 4
}
