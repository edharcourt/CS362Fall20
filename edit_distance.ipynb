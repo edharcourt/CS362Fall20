{
 "cells": [
  {
   "cell_type": "markdown",
   "metadata": {},
   "source": [
    "# Edit Distance"
   ]
  },
  {
   "cell_type": "markdown",
   "metadata": {},
   "source": [
    "## Recursive Brute Force Solution"
   ]
  },
  {
   "cell_type": "code",
   "execution_count": 2,
   "metadata": {},
   "outputs": [],
   "source": [
    "def edit_distance(s: str, t: str) -> int:\n",
    "    \n",
    "    def distance(i: int, j: int) -> int:\n",
    "        if i == 0: return j   # s is empty, j insertions\n",
    "        if j == 0: return i   # t is empty, i deletions\n",
    "        \n",
    "        # case 1 - change\n",
    "        if s[i-1] == t[j-1]:\n",
    "            changes = distance(i-1, j-1)\n",
    "        else:\n",
    "            changes = 1 + distance(i-1, j-1)\n",
    "            \n",
    "        # case 2 - deletions\n",
    "        deletions = 1 + distance(i-1, j) \n",
    "        \n",
    "        # case 3 - insertions\n",
    "        insertions = 1 + distance(i, j-1)\n",
    "        \n",
    "        return min(changes, insertions, deletions)\n",
    "    \n",
    "    return distance(len(s), len(t))\n",
    "        "
   ]
  },
  {
   "cell_type": "code",
   "execution_count": 3,
   "metadata": {},
   "outputs": [
    {
     "name": "stdout",
     "output_type": "stream",
     "text": [
      "3\n"
     ]
    }
   ],
   "source": [
    "s = \"snowy\"\n",
    "t = \"sunny\"\n",
    "print(edit_distance(s,t))"
   ]
  },
  {
   "cell_type": "code",
   "execution_count": 4,
   "metadata": {},
   "outputs": [
    {
     "name": "stdout",
     "output_type": "stream",
     "text": [
      "6\n"
     ]
    }
   ],
   "source": [
    "s = 'polynomial'\n",
    "t = 'exponential'\n",
    "print(edit_distance(s,t))"
   ]
  },
  {
   "cell_type": "markdown",
   "metadata": {},
   "source": [
    "## Edit Distance - Dynamic Programming"
   ]
  },
  {
   "cell_type": "code",
   "execution_count": 5,
   "metadata": {},
   "outputs": [],
   "source": [
    "import numpy as np\n",
    "def edit_distance(s: str, t: str) -> int:\n",
    "    dist = np.zeros((len(s) + 1, len(t) + 1))\n",
    "    \n",
    "    # initialize the first row\n",
    "    for j in range(len(t) + 1): dist[0][j] = j\n",
    "        \n",
    "    # initialize the first column\n",
    "    for i in range(len(s) + 1): dist[i][0] = i\n",
    "        \n",
    "    print(dist)\n",
    "        \n",
    "    "
   ]
  },
  {
   "cell_type": "code",
   "execution_count": 6,
   "metadata": {},
   "outputs": [
    {
     "name": "stdout",
     "output_type": "stream",
     "text": [
      "[[0. 1. 2. 3.]\n",
      " [1. 0. 0. 0.]\n",
      " [2. 0. 0. 0.]\n",
      " [3. 0. 0. 0.]\n",
      " [4. 0. 0. 0.]\n",
      " [5. 0. 0. 0.]]\n"
     ]
    }
   ],
   "source": [
    "edit_distance(\"horse\", \"ror\")"
   ]
  },
  {
   "cell_type": "code",
   "execution_count": null,
   "metadata": {},
   "outputs": [],
   "source": []
  }
 ],
 "metadata": {
  "kernelspec": {
   "display_name": "Python 3",
   "language": "python",
   "name": "python3"
  },
  "language_info": {
   "codemirror_mode": {
    "name": "ipython",
    "version": 3
   },
   "file_extension": ".py",
   "mimetype": "text/x-python",
   "name": "python",
   "nbconvert_exporter": "python",
   "pygments_lexer": "ipython3",
   "version": "3.7.6"
  }
 },
 "nbformat": 4,
 "nbformat_minor": 4
}
