{
 "cells": [
  {
   "cell_type": "markdown",
   "metadata": {},
   "source": [
    "# SUBSET SUM"
   ]
  },
  {
   "cell_type": "markdown",
   "metadata": {},
   "source": [
    "Is there a subset of $S$ that sums to the value $x$."
   ]
  },
  {
   "cell_type": "code",
   "execution_count": 37,
   "metadata": {},
   "outputs": [],
   "source": [
    "from typing import List, Optional, TypeVar\n",
    "T = TypeVar('T')"
   ]
  },
  {
   "cell_type": "code",
   "execution_count": 38,
   "metadata": {},
   "outputs": [],
   "source": [
    "def insert_into_each(x: T, sos: List[List[T]]) -> List[List[T]]:\n",
    "    r = []\n",
    "    \n",
    "    # for each set s in sos\n",
    "    for s in sos:\n",
    "        t = s[:] # make a copy of the subset (list)\n",
    "        t.append(x)\n",
    "        r.append(t)\n",
    "        \n",
    "    return r\n",
    "\n",
    "#l = [[1],[2,3],[4,5,6],[7,8,9]]\n",
    "#v = insert_into_each(0, l)\n",
    "#print(v)"
   ]
  },
  {
   "cell_type": "code",
   "execution_count": 39,
   "metadata": {},
   "outputs": [],
   "source": [
    "def powset(S: List[T]) -> List[List[T]]:\n",
    "    if len(S) == 0:\n",
    "        return [[]]\n",
    "    \n",
    "    p = powset(S[1:])\n",
    "    \n",
    "    return p + insert_into_each(S[0], p)\n",
    "\n",
    "# print(powset([1,2,3,4,5,6]))"
   ]
  },
  {
   "cell_type": "code",
   "execution_count": null,
   "metadata": {},
   "outputs": [],
   "source": [
    "\n",
    "def subset_sum(x: int, S: List[int]) -> Optional[List[int]]:\n",
    "    ps = powset(S)\n",
    "    \n",
    "    for s in ps:\n",
    "        if x == sum(s):\n",
    "            return s\n",
    "    return None\n",
    "\n",
    "\n",
    "print(subset_sum(37, [1, 2, 15, 21, 7, 6]))"
   ]
  },
  {
   "cell_type": "code",
   "execution_count": null,
   "metadata": {},
   "outputs": [],
   "source": [
    "from random import randrange as rr,seed\n",
    "seed(0)\n",
    "S = list(set([rr(1000) for i in range(20)]))\n",
    "# S has no duplicates\n",
    "\n",
    "print(subset_sum(321, S))"
   ]
  },
  {
   "cell_type": "markdown",
   "metadata": {},
   "source": [
    "## All combinations"
   ]
  },
  {
   "cell_type": "code",
   "execution_count": 9,
   "metadata": {},
   "outputs": [],
   "source": [
    "from string import ascii_letters as letters, digits, punctuation"
   ]
  },
  {
   "cell_type": "code",
   "execution_count": 10,
   "metadata": {},
   "outputs": [
    {
     "name": "stdout",
     "output_type": "stream",
     "text": [
      "abcdefghijklmnopqrstuvwxyzABCDEFGHIJKLMNOPQRSTUVWXYZ0123456789!\"#$%&'()*+,-./:;<=>?@[\\]^_`{|}~\n"
     ]
    }
   ],
   "source": [
    "possible_chars = letters + digits + punctuation\n",
    "print(possible_chars)"
   ]
  },
  {
   "cell_type": "markdown",
   "metadata": {},
   "source": [
    "**Question:** Write a code snippet that will enumerate all possible 3-character passwords"
   ]
  },
  {
   "cell_type": "code",
   "execution_count": 22,
   "metadata": {},
   "outputs": [
    {
     "name": "stdout",
     "output_type": "stream",
     "text": [
      "15081004.728314364\n"
     ]
    }
   ],
   "source": [
    "print(len(possible_chars)**12/1e9/60/60/24/365.25)\n",
    "#for ch1 in possible_chars:\n",
    "#    for ch2 in possible_chars:\n",
    "#        for ch3 in possible_chars:\n",
    "#            print(ch1,ch2,ch3)"
   ]
  },
  {
   "cell_type": "markdown",
   "metadata": {},
   "source": [
    "## Satisfiability"
   ]
  },
  {
   "cell_type": "markdown",
   "metadata": {},
   "source": [
    "$(e \\vee f)\\wedge(\\overline{e \\wedge f})\\wedge(e\\rightarrow g)\\wedge (g\\rightarrow f)$"
   ]
  },
  {
   "cell_type": "markdown",
   "metadata": {},
   "source": [
    "How can we find a satisfying assignment in code?\n",
    "\n",
    "+ How to deal with $\\rightarrow$\n",
    "+ How to enumerate all possible truth values"
   ]
  },
  {
   "cell_type": "code",
   "execution_count": 35,
   "metadata": {},
   "outputs": [
    {
     "name": "stdout",
     "output_type": "stream",
     "text": [
      "[(False, True, True), (False, True, False)]\n"
     ]
    }
   ],
   "source": [
    "#implication\n",
    "def imp(a: bool, b: bool) -> bool:\n",
    "    return not a or b\n",
    "\n",
    "def phi(e: bool, f:bool, g: bool) -> bool:\n",
    "    return (e or f) and not (e and f) and imp(e,g) and imp(g,f)\n",
    "\n",
    "from typing import Tuple, Callable, List\n",
    "def SAT(n: int, f: Callable[...,bool]) -> List[Tuple[bool,bool,bool]]:\n",
    "    \n",
    "    r = [] \n",
    "    \n",
    "    # all possible truth values\n",
    "    for a in [True, False]:\n",
    "        for b in [True, False]:\n",
    "            for c in [True,False]:\n",
    "                if f(a,b,c):\n",
    "                    r.append((a,b,c))\n",
    "    \n",
    "    return r\n",
    "\n",
    "print(SAT(3, phi))"
   ]
  },
  {
   "cell_type": "code",
   "execution_count": 40,
   "metadata": {},
   "outputs": [
    {
     "name": "stdout",
     "output_type": "stream",
     "text": [
      "[[], [2], [1], [2, 1], [0], [2, 0], [1, 0], [2, 1, 0]]\n"
     ]
    }
   ],
   "source": [
    "def SAT(n: int, phi: Callable[...,bool]) -> List[List[bool]]:\n",
    "    \n",
    "    # all possible truth assignments\n",
    "    tas = powset([i for i in range(n)])\n",
    "    \n",
    "    # generate all possible truth assignments from tas (the powerset)\n",
    "    \n",
    "SAT(3, phi)"
   ]
  },
  {
   "cell_type": "code",
   "execution_count": null,
   "metadata": {},
   "outputs": [],
   "source": []
  }
 ],
 "metadata": {
  "kernelspec": {
   "display_name": "Python 3",
   "language": "python",
   "name": "python3"
  },
  "language_info": {
   "codemirror_mode": {
    "name": "ipython",
    "version": 3
   },
   "file_extension": ".py",
   "mimetype": "text/x-python",
   "name": "python",
   "nbconvert_exporter": "python",
   "pygments_lexer": "ipython3",
   "version": "3.8.5"
  }
 },
 "nbformat": 4,
 "nbformat_minor": 4
}
