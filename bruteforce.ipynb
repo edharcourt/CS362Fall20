{
 "cells": [
  {
   "cell_type": "markdown",
   "metadata": {},
   "source": [
    "# SUBSET SUM"
   ]
  },
  {
   "cell_type": "markdown",
   "metadata": {},
   "source": [
    "Is there a subset of $S$ that sums to the value $x$."
   ]
  },
  {
   "cell_type": "code",
   "execution_count": 2,
   "metadata": {},
   "outputs": [],
   "source": [
    "from typing import List, Optional, TypeVar\n",
    "T = TypeVar('T')"
   ]
  },
  {
   "cell_type": "code",
   "execution_count": 3,
   "metadata": {},
   "outputs": [],
   "source": [
    "def insert_into_each(x: T, sos: List[List[T]]) -> List[List[T]]:\n",
    "    r = []\n",
    "    \n",
    "    # for each set s in sos\n",
    "    for s in sos:\n",
    "        t = s[:] # make a copy of the subset (list)\n",
    "        t.append(x)\n",
    "        r.append(t)\n",
    "        \n",
    "    return r\n",
    "\n",
    "#l = [[1],[2,3],[4,5,6],[7,8,9]]\n",
    "#v = insert_into_each(0, l)\n",
    "#print(v)"
   ]
  },
  {
   "cell_type": "code",
   "execution_count": 4,
   "metadata": {},
   "outputs": [],
   "source": [
    "def powset(S: List[T]) -> List[List[T]]:\n",
    "    if len(S) == 0:\n",
    "        return [[]]\n",
    "    \n",
    "    p = powset(S[1:])\n",
    "    \n",
    "    return p + insert_into_each(S[0], p)\n",
    "\n",
    "# print(powset([1,2,3,4,5,6]))"
   ]
  },
  {
   "cell_type": "code",
   "execution_count": 5,
   "metadata": {},
   "outputs": [
    {
     "name": "stdout",
     "output_type": "stream",
     "text": [
      "[21, 15, 1]\n"
     ]
    }
   ],
   "source": [
    "\n",
    "def subset_sum(x: int, S: List[int]) -> Optional[List[int]]:\n",
    "    ps = powset(S)\n",
    "    \n",
    "    for s in ps:\n",
    "        if x == sum(s):\n",
    "            return s\n",
    "    return None\n",
    "\n",
    "\n",
    "print(subset_sum(37, [1, 2, 15, 21, 7, 6]))"
   ]
  },
  {
   "cell_type": "code",
   "execution_count": 6,
   "metadata": {},
   "outputs": [
    {
     "name": "stdout",
     "output_type": "stream",
     "text": [
      "None\n"
     ]
    }
   ],
   "source": [
    "from random import randrange as rr,seed\n",
    "seed(0)\n",
    "S = list(set([rr(1000) for i in range(20)]))\n",
    "# S has no duplicates\n",
    "\n",
    "print(subset_sum(321, S))"
   ]
  },
  {
   "cell_type": "code",
   "execution_count": null,
   "metadata": {},
   "outputs": [],
   "source": []
  }
 ],
 "metadata": {
  "kernelspec": {
   "display_name": "Python 3",
   "language": "python",
   "name": "python3"
  },
  "language_info": {
   "codemirror_mode": {
    "name": "ipython",
    "version": 3
   },
   "file_extension": ".py",
   "mimetype": "text/x-python",
   "name": "python",
   "nbconvert_exporter": "python",
   "pygments_lexer": "ipython3",
   "version": "3.7.6"
  }
 },
 "nbformat": 4,
 "nbformat_minor": 4
}
